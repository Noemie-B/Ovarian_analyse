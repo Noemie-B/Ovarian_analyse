{
 "cells": [
  {
   "cell_type": "code",
   "execution_count": 18,
   "id": "b7795c83",
   "metadata": {},
   "outputs": [],
   "source": [
    "import numpy as np\n",
    "import os\n",
    "import shutil\n",
    "import pandas as pd\n",
    "import geojson\n",
    "from json import JSONDecodeError"
   ]
  },
  {
   "cell_type": "code",
   "execution_count": 19,
   "id": "41f5e268",
   "metadata": {},
   "outputs": [],
   "source": [
    "#PATH_output = '/media/user/Seagate_Ligue_DNA2/OV_TCGA_LYON/'\n",
    "PATH_root = '/media/user/Watson/data_Lyon/Ovaires/'\n",
    "PATH_mask = PATH_root+'3_Hovernet/'"
   ]
  },
  {
   "cell_type": "code",
   "execution_count": 24,
   "id": "0fea3707",
   "metadata": {},
   "outputs": [],
   "source": [
    "PATH_patches = PATH_root+'1_c_patches_after_cleaning/' #à remplacer par ton dossier contenant les patches\n",
    "PATH_hovernet = PATH_root+'3_Hovernet/' #à remplacer par ton dossier contenant l'output d'hovernet\n",
    "\n",
    "if not os.path.exists(PATH_root+'4_Athena') :\n",
    "    os.mkdir(PATH_root+'4_Athena')\n",
    "    \n",
    "    \n",
    "PATH_output_df_count_cells = PATH_root+'4_Athena/1_df_count_cells/'\n",
    "if not os.path.exists(PATH_output_df_count_cells) :\n",
    "    os.mkdir(PATH_output_df_count_cells)\n",
    "    \n",
    "PATH_df_patch_select = PATH_root+'4_Athena/4_df_pyradiomics/'\n",
    "if not os.path.exists(PATH_df_patch_select) :\n",
    "    os.mkdir(PATH_df_patch_select)\n",
    "    \n",
    "PATH_patch_select = PATH_root+'4_Athena/1_patches_select/'\n",
    "if not os.path.exists(PATH_patch_select) :\n",
    "    os.mkdir(PATH_patch_select)\n",
    "    \n",
    "PATH_hovernet_select_json = PATH_root+'4_Athena/3_hovernet_select/'\n",
    "if not os.path.exists(PATH_root+'4_Athena/3_hovernet_select/') :\n",
    "    os.mkdir(PATH_root+'4_Athena/3_hovernet_select/')\n",
    "    \n",
    "PATH_hovernet_select_json = PATH_root+'4_Athena/3_hovernet_select/json/'\n",
    "if not os.path.exists(PATH_hovernet_select_json) :\n",
    "    os.mkdir(PATH_hovernet_select_json)\n",
    "    \n",
    "PATH_hovernet_select_overlay = PATH_root+'4_Athena/3_hovernet_select/overlay/'\n",
    "if not os.path.exists(PATH_hovernet_select_overlay) :\n",
    "    os.mkdir(PATH_hovernet_select_overlay)"
   ]
  },
  {
   "cell_type": "code",
   "execution_count": 21,
   "id": "50611b67",
   "metadata": {},
   "outputs": [
    {
     "data": {
      "text/plain": [
       "28"
      ]
     },
     "execution_count": 21,
     "metadata": {},
     "output_type": "execute_result"
    }
   ],
   "source": [
    "patients = os.listdir(PATH_patches)\n",
    "len(patients)"
   ]
  },
  {
   "cell_type": "markdown",
   "id": "f5e29a87",
   "metadata": {},
   "source": [
    "# df per patient creation"
   ]
  },
  {
   "cell_type": "code",
   "execution_count": 2,
   "id": "5278293d",
   "metadata": {},
   "outputs": [],
   "source": [
    "for patient in patients:\n",
    "    print(patient)\n",
    "    if not os.path.exists(PATH_output_df_count_cells+patient+'.csv'):\n",
    "        df = pd.DataFrame()\n",
    "        patches = os.listdir(PATH_patches+patient)\n",
    "        for patch in patches:\n",
    "            #print(patch)\n",
    "            PATH_tot = PATH_mask+patient+'/json/'+patch[:-4]+'.json'\n",
    "            PATH_overlay = PATH_mask+patient+'/overlay/'+patch[:-4]+'.png'\n",
    "\n",
    "            if os.path.exists(PATH_tot) and os.path.exists(PATH_overlay) :\n",
    "                with open(PATH_tot) as f :\n",
    "                    nuclei = geojson.load(f)\n",
    "                    nuclei = nuclei['nuc']\n",
    "                count_tum = 0\n",
    "                count_inf = 0\n",
    "                count_others = 0\n",
    "                count_connective = 0\n",
    "                count_dead = 0\n",
    "                count_nne = 0\n",
    "                for key in list(nuclei.keys()) :\n",
    "                   # print(nuclei[key]['type'])\n",
    "                    if nuclei[key]['type'] == 1 :\n",
    "                        count_tum += 1\n",
    "                    elif nuclei[key]['type'] == 2 :\n",
    "                        count_inf += 1  \n",
    "                    elif nuclei[key]['type'] == 0 :\n",
    "                        count_others += 1  \n",
    "                    elif nuclei[key]['type'] == 3 :\n",
    "                        count_connective += 1  \n",
    "                    elif nuclei[key]['type'] == 4 :\n",
    "                        count_dead += 1  \n",
    "                    elif nuclei[key]['type'] == 5 :\n",
    "                        count_nne += 1  \n",
    "               # print('count_tum', count_tum)\n",
    "            df_temp = pd.DataFrame({'patch': [patch[:-4]], 'count_cells': [len(nuclei.keys())], 'count_tum' : [count_tum], 'count_inf':[count_inf],'count_others':[count_others],'count_dead':[count_dead],'count_connective':[count_connective],'count_nne':[count_nne]})\n",
    "            df = pd.concat([df, df_temp])\n",
    "        df.to_csv(PATH_output_df_count_cells+patient+'.csv')\n",
    "        print(len(df)) "
   ]
  },
  {
   "cell_type": "markdown",
   "id": "9bea4d01",
   "metadata": {},
   "source": [
    "# Select patches"
   ]
  },
  {
   "cell_type": "code",
   "execution_count": 41,
   "id": "435ab36b",
   "metadata": {},
   "outputs": [],
   "source": [
    "PATH_patches = PATH_root+'1_c_patches_after_cleaning/' #à remplacer par ton dossier contenant les patches\n",
    "PATH_hovernet = PATH_root+'3_Hovernet/' #à remplacer par ton dossier contenant l'output d'hovernet\n",
    "\n",
    "if not os.path.exists(PATH_root+'4_Athena_select_5000_noyaux') :\n",
    "    os.mkdir(PATH_root+'4_Athena_select_5000_noyaux')\n",
    "    \n",
    "    \n",
    "PATH_output_df_count_cells = PATH_root+'4_Athena_select_5000_noyaux/1_df_count_cells/'\n",
    "if not os.path.exists(PATH_output_df_count_cells) :\n",
    "    os.mkdir(PATH_output_df_count_cells)\n",
    "    \n",
    "PATH_df_patch_select = PATH_root+'4_Athena_select_5000_noyaux/1_df_patches_select/'\n",
    "if not os.path.exists(PATH_df_patch_select) :\n",
    "    os.mkdir(PATH_df_patch_select)\n",
    "    \n",
    "PATH_patch_select = PATH_root+'4_Athena_select_5000_noyaux/1_patches_select/'\n",
    "if not os.path.exists(PATH_patch_select) :\n",
    "    os.mkdir(PATH_patch_select)\n",
    "    \n",
    "PATH_hovernet_select_json = PATH_root+'4_Athena_select_5000_noyaux/3_hovernet_select/'\n",
    "if not os.path.exists(PATH_root+'4_Athena_select_5000_noyaux/3_hovernet_select/') :\n",
    "    os.mkdir(PATH_root+'4_Athena_select_5000_noyaux/3_hovernet_select/')\n",
    "    \n",
    "PATH_hovernet_select_json = PATH_root+'4_Athena_select_5000_noyaux/3_hovernet_select/json/'\n",
    "if not os.path.exists(PATH_hovernet_select_json) :\n",
    "    os.mkdir(PATH_hovernet_select_json)\n",
    "    \n",
    "PATH_hovernet_select_overlay = PATH_root+'4_Athena_select_5000_noyaux/3_hovernet_select/overlay/'\n",
    "if not os.path.exists(PATH_hovernet_select_overlay) :\n",
    "    os.mkdir(PATH_hovernet_select_overlay)"
   ]
  },
  {
   "cell_type": "code",
   "execution_count": 1,
   "id": "bec5ca2b",
   "metadata": {},
   "outputs": [],
   "source": [
    "for patient in patients:\n",
    "    print(patient)\n",
    "    df = pd.read_csv('/media/user/Watson/data_Lyon/Ovaires/4_Athena/1_df_count_cells/'+patient+'.csv')\n",
    "    df.sort_values(by='count_cells', ascending=False,inplace=True)\n",
    "    i = 1\n",
    "    while df[:i]['count_cells'].sum() < 5000 :\n",
    "        print(i)\n",
    "        i+=1\n",
    "    print(i)\n",
    "    df_select = df[:i]\n",
    "    patches_select = list(df_select['patch'])\n",
    "    print(len(patches_select))\n",
    "    for patch in patches_select :\n",
    "\n",
    "        if not os.path.exists(PATH_patch_select+patient) :\n",
    "            os.mkdir(PATH_patch_select+patient)\n",
    "        shutil.copy(PATH_patches+patient+'/'+patch+'.jpg', PATH_patch_select+patient+'/'+patch+'.jpg')\n",
    "        if not os.path.exists(PATH_hovernet_select_overlay+patient) :\n",
    "            os.mkdir(PATH_hovernet_select_overlay+patient)\n",
    "        shutil.copy(PATH_hovernet+patient+'/overlay/'+patch+'.png', PATH_hovernet_select_overlay+patient+'/'+patch+'.png')\n",
    "        if not os.path.exists(PATH_hovernet_select_json+patient) :\n",
    "            os.mkdir(PATH_hovernet_select_json+patient)\n",
    "        shutil.copy(PATH_hovernet+patient+'/json/'+patch+'.json', PATH_hovernet_select_json+patient+'/'+patch+'.json')\n"
   ]
  },
  {
   "cell_type": "code",
   "execution_count": null,
   "id": "10f53c96",
   "metadata": {},
   "outputs": [],
   "source": []
  }
 ],
 "metadata": {
  "kernelspec": {
   "display_name": "Python 3 (ipykernel)",
   "language": "python",
   "name": "python3"
  },
  "language_info": {
   "codemirror_mode": {
    "name": "ipython",
    "version": 3
   },
   "file_extension": ".py",
   "mimetype": "text/x-python",
   "name": "python",
   "nbconvert_exporter": "python",
   "pygments_lexer": "ipython3",
   "version": "3.9.7"
  }
 },
 "nbformat": 4,
 "nbformat_minor": 5
}
