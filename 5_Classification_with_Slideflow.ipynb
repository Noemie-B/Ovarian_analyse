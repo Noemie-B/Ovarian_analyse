{
 "cells": [
  {
   "cell_type": "markdown",
   "metadata": {},
   "source": [
    "### Creating a project in SlideFlow for GC / non GC"
   ]
  },
  {
   "cell_type": "code",
   "execution_count": 15,
   "metadata": {
    "scrolled": true
   },
   "outputs": [],
   "source": [
    "import slideflow as sf\n",
    "import os\n",
    "\n",
    "os.environ[\"SF_SLIDE_BACKEND\"] = \"libvips\"\n",
    "os.environ[\"SF_BACKEND\"] = \"torch\""
   ]
  },
  {
   "cell_type": "code",
   "execution_count": 16,
   "metadata": {},
   "outputs": [
    {
     "name": "stdout",
     "output_type": "stream",
     "text": [
      "Project already created.\n"
     ]
    }
   ],
   "source": [
    "project_name = 'slideflow_Lyon_TCGA'\n",
    "csv_path = \"annotations/annotations_Lyon_TCGA_37_dataset.csv\"\n",
    "images_path = '/media/user/Blake/Projet Ovaires/Lyon_TCGA'\n",
    "\n",
    "try:\n",
    "  project = sf.create_project(\n",
    "    root = project_name,     # name of the project's folder\n",
    "    annotations = csv_path,  # csv with binary labels\n",
    "    slides = images_path     # folder with ndpi files\n",
    "  )\n",
    "except OSError:\n",
    "  print(\"Project already created.\")"
   ]
  },
  {
   "cell_type": "markdown",
   "metadata": {},
   "source": [
    "#### Dataset"
   ]
  },
  {
   "cell_type": "code",
   "execution_count": 18,
   "metadata": {},
   "outputs": [],
   "source": [
    "project = sf.load_project(project_name)\n",
    "dataset = project.dataset(tile_px=224, tile_um='45x', sources=['MyProject'])"
   ]
  },
  {
   "cell_type": "markdown",
   "metadata": {},
   "source": [
    "## Don't run if already created tiles"
   ]
  },
  {
   "cell_type": "code",
   "execution_count": 1,
   "metadata": {},
   "outputs": [],
   "source": [
    "dataset.extract_tiles(qc='otsu')"
   ]
  },
  {
   "cell_type": "markdown",
   "metadata": {},
   "source": [
    "#### Extract features"
   ]
  },
  {
   "cell_type": "code",
   "execution_count": 20,
   "metadata": {},
   "outputs": [
    {
     "data": {
      "text/html": [
       "<pre style=\"white-space:pre;overflow-x:auto;line-height:normal;font-family:Menlo,'DejaVu Sans Mono',consolas,'Courier New',monospace\"><span style=\"color: #7fbfbf; text-decoration-color: #7fbfbf\">[14:29:57] </span><span style=\"color: #000080; text-decoration-color: #000080\">INFO    </span> Feature extractor resnet50_imagenet available in both Tensorflow and PyTorch backends; using   \n",
       "<span style=\"color: #7fbfbf; text-decoration-color: #7fbfbf\">           </span>         active backend torch                                                                           \n",
       "</pre>\n"
      ],
      "text/plain": [
       "\u001b[2;36m[14:29:57]\u001b[0m\u001b[2;36m \u001b[0m\u001b[34mINFO    \u001b[0m Feature extractor resnet50_imagenet available in both Tensorflow and PyTorch backends; using   \n",
       "\u001b[2;36m           \u001b[0m         active backend torch                                                                           \n"
      ]
     },
     "metadata": {},
     "output_type": "display_data"
    },
    {
     "data": {
      "text/html": [
       "<pre style=\"white-space:pre;overflow-x:auto;line-height:normal;font-family:Menlo,'DejaVu Sans Mono',consolas,'Courier New',monospace\"><span style=\"color: #7fbfbf; text-decoration-color: #7fbfbf\">           </span><span style=\"color: #000080; text-decoration-color: #000080\">INFO    </span> Calculating activations for 18 tfrecords                                                       \n",
       "</pre>\n"
      ],
      "text/plain": [
       "\u001b[2;36m          \u001b[0m\u001b[2;36m \u001b[0m\u001b[34mINFO    \u001b[0m Calculating activations for 18 tfrecords                                                       \n"
      ]
     },
     "metadata": {},
     "output_type": "display_data"
    },
    {
     "data": {
      "text/html": [
       "<pre style=\"white-space:pre;overflow-x:auto;line-height:normal;font-family:Menlo,'DejaVu Sans Mono',consolas,'Courier New',monospace\"><span style=\"color: #7fbfbf; text-decoration-color: #7fbfbf\">           </span><span style=\"color: #000080; text-decoration-color: #000080\">INFO    </span> Generating from <span style=\"color: #008000; text-decoration-color: #008000\">&lt;TorchImagenetLayerExtractor model=resnet50 layers=['postconv'] </span>               \n",
       "<span style=\"color: #7fbfbf; text-decoration-color: #7fbfbf\">           </span>         <span style=\"color: #008000; text-decoration-color: #008000\">n_features=2048&gt;</span>                                                                               \n",
       "</pre>\n"
      ],
      "text/plain": [
       "\u001b[2;36m          \u001b[0m\u001b[2;36m \u001b[0m\u001b[34mINFO    \u001b[0m Generating from \u001b[32m<TorchImagenetLayerExtractor model=resnet50 layers=['postconv'] \u001b[0m               \n",
       "\u001b[2;36m           \u001b[0m         \u001b[32mn_features=2048>\u001b[0m                                                                               \n"
      ]
     },
     "metadata": {},
     "output_type": "display_data"
    },
    {
     "data": {
      "text/html": [
       "<pre style=\"white-space:pre;overflow-x:auto;line-height:normal;font-family:Menlo,'DejaVu Sans Mono',consolas,'Courier New',monospace\"></pre>\n"
      ],
      "text/plain": []
     },
     "metadata": {},
     "output_type": "display_data"
    },
    {
     "data": {
      "text/html": [
       "<pre style=\"white-space:pre;overflow-x:auto;line-height:normal;font-family:Menlo,'DejaVu Sans Mono',consolas,'Courier New',monospace\">\n",
       "</pre>\n"
      ],
      "text/plain": [
       "\n"
      ]
     },
     "metadata": {},
     "output_type": "display_data"
    },
    {
     "data": {
      "text/html": [
       "<pre style=\"white-space:pre;overflow-x:auto;line-height:normal;font-family:Menlo,'DejaVu Sans Mono',consolas,'Courier New',monospace\"></pre>\n"
      ],
      "text/plain": []
     },
     "metadata": {},
     "output_type": "display_data"
    },
    {
     "data": {
      "text/html": [
       "<pre style=\"white-space:pre;overflow-x:auto;line-height:normal;font-family:Menlo,'DejaVu Sans Mono',consolas,'Courier New',monospace\">\n",
       "</pre>\n"
      ],
      "text/plain": [
       "\n"
      ]
     },
     "metadata": {},
     "output_type": "display_data"
    }
   ],
   "source": [
    "from slideflow.model import build_feature_extractor\n",
    "\n",
    "resnet50 = build_feature_extractor(\n",
    "    'resnet50_imagenet',\n",
    "    tile_px=224\n",
    ")\n",
    "\n",
    "features = sf.DatasetFeatures(resnet50, dataset)"
   ]
  },
  {
   "cell_type": "code",
   "execution_count": 14,
   "metadata": {},
   "outputs": [
    {
     "data": {
      "text/html": [
       "<pre style=\"white-space:pre;overflow-x:auto;line-height:normal;font-family:Menlo,'DejaVu Sans Mono',consolas,'Courier New',monospace\"></pre>\n"
      ],
      "text/plain": []
     },
     "metadata": {},
     "output_type": "display_data"
    },
    {
     "data": {
      "text/html": [
       "<pre style=\"white-space:pre;overflow-x:auto;line-height:normal;font-family:Menlo,'DejaVu Sans Mono',consolas,'Courier New',monospace\">\n",
       "</pre>\n"
      ],
      "text/plain": [
       "\n"
      ]
     },
     "metadata": {},
     "output_type": "display_data"
    },
    {
     "data": {
      "text/html": [
       "<pre style=\"white-space:pre;overflow-x:auto;line-height:normal;font-family:Menlo,'DejaVu Sans Mono',consolas,'Courier New',monospace\"><span style=\"color: #7fbfbf; text-decoration-color: #7fbfbf\">[13:58:02] </span><span style=\"color: #800000; text-decoration-color: #800000\">WARNING </span> <span style=\"color: #808000; text-decoration-color: #808000\">Feature extraction configuration does not match the configuration used to generate the existing</span>\n",
       "<span style=\"color: #7fbfbf; text-decoration-color: #7fbfbf\">           </span>         <span style=\"color: #808000; text-decoration-color: #808000\">bags at slideflow_Lyon_TCGA/bags. Current configuration will not be saved.</span>                     \n",
       "</pre>\n"
      ],
      "text/plain": [
       "\u001b[2;36m[13:58:02]\u001b[0m\u001b[2;36m \u001b[0m\u001b[31mWARNING \u001b[0m \u001b[33mFeature extraction configuration does not match the configuration used to generate the existing\u001b[0m\n",
       "\u001b[2;36m           \u001b[0m         \u001b[33mbags at slideflow_Lyon_TCGA/bags. Current configuration will not be saved.\u001b[0m                     \n"
      ]
     },
     "metadata": {},
     "output_type": "display_data"
    },
    {
     "data": {
      "text/html": [
       "<pre style=\"white-space:pre;overflow-x:auto;line-height:normal;font-family:Menlo,'DejaVu Sans Mono',consolas,'Courier New',monospace\"><span style=\"color: #7fbfbf; text-decoration-color: #7fbfbf\">           </span><span style=\"color: #000080; text-decoration-color: #000080\">INFO    </span> Activations exported in Torch format to slideflow_Lyon_TCGA/bags                               \n",
       "</pre>\n"
      ],
      "text/plain": [
       "\u001b[2;36m          \u001b[0m\u001b[2;36m \u001b[0m\u001b[34mINFO    \u001b[0m Activations exported in Torch format to slideflow_Lyon_TCGA/bags                               \n"
      ]
     },
     "metadata": {},
     "output_type": "display_data"
    }
   ],
   "source": [
    "# We save them in an external folder since the features are the same for any classification project\n",
    "features.to_torch(f'{project_name}/bags')"
   ]
  },
  {
   "cell_type": "code",
   "execution_count": 7,
   "metadata": {},
   "outputs": [
    {
     "name": "stdout",
     "output_type": "stream",
     "text": [
      "Overview:\n",
      "╒═════════════════════╤═══════════════════════════════════╕\n",
      "│ Configuration file: │ slideflow_Lyon_TCGA/datasets.json │\n",
      "│ Tile size (px):     │ 224                               │\n",
      "│ Tile size (um):     │ 40x                               │\n",
      "│ Slides:             │ 37                                │\n",
      "│ Patients:           │ 37                                │\n",
      "│ Slides with ROIs:   │ 0                                 │\n",
      "│ Patients with ROIs: │ 0                                 │\n",
      "╘═════════════════════╧═══════════════════════════════════╛\n",
      "\n",
      "Filters:\n",
      "╒═══════════════╤════╕\n",
      "│ Filters:      │ {} │\n",
      "├───────────────┼────┤\n",
      "│ Filter Blank: │ [] │\n",
      "├───────────────┼────┤\n",
      "│ Min Tiles:    │ 0  │\n",
      "╘═══════════════╧════╛\n",
      "\n",
      "Sources:\n",
      "\n",
      "MyProject\n",
      "╒═══════════╤═════════════════════════════════════════════════╕\n",
      "│ slides    │ /media/user/Blake/Projet Ovaires/Lyon_TCGA      │\n",
      "│ roi       │ /media/user/Blake/Projet Ovaires/Lyon_TCGA/rois │\n",
      "│ tiles     │ slideflow_Lyon_TCGA/tiles                       │\n",
      "│ tfrecords │ slideflow_Lyon_TCGA/tfrecords                   │\n",
      "│ label     │ 224px_40x                                       │\n",
      "╘═══════════╧═════════════════════════════════════════════════╛\n",
      "\n",
      "Number of tiles in TFRecords: 538881\n",
      "Annotation columns:\n",
      "Index(['patient', 'cohort', 'label', 'category', 'slide', 'dataset0',\n",
      "       'dataset1', 'dataset2', 'dataset3', 'dataset4'],\n",
      "      dtype='object')\n"
     ]
    }
   ],
   "source": [
    "dataset.summary()"
   ]
  },
  {
   "cell_type": "markdown",
   "metadata": {},
   "source": [
    "#### Model configuration and training"
   ]
  },
  {
   "cell_type": "code",
   "execution_count": 30,
   "metadata": {
    "scrolled": true
   },
   "outputs": [
    {
     "data": {
      "text/html": [
       "<pre style=\"white-space:pre;overflow-x:auto;line-height:normal;font-family:Menlo,'DejaVu Sans Mono',consolas,'Courier New',monospace\"><span style=\"color: #7fbfbf; text-decoration-color: #7fbfbf\">[17:40:18] </span><span style=\"color: #000080; text-decoration-color: #000080\">INFO    </span> Training FastAI MIL model with config:                                                         \n",
       "</pre>\n"
      ],
      "text/plain": [
       "\u001b[2;36m[17:40:18]\u001b[0m\u001b[2;36m \u001b[0m\u001b[34mINFO    \u001b[0m Training FastAI MIL model with config:                                                         \n"
      ]
     },
     "metadata": {},
     "output_type": "display_data"
    },
    {
     "data": {
      "text/html": [
       "<pre style=\"white-space:pre;overflow-x:auto;line-height:normal;font-family:Menlo,'DejaVu Sans Mono',consolas,'Courier New',monospace\"><span style=\"color: #7fbfbf; text-decoration-color: #7fbfbf\">           </span><span style=\"color: #000080; text-decoration-color: #000080\">INFO    </span> TrainerConfigFastAI(                                                                           \n",
       "<span style=\"color: #7fbfbf; text-decoration-color: #7fbfbf\">           </span>           aggregation_level='slide'                                                                    \n",
       "<span style=\"color: #7fbfbf; text-decoration-color: #7fbfbf\">           </span>           lr=0.001                                                                                     \n",
       "<span style=\"color: #7fbfbf; text-decoration-color: #7fbfbf\">           </span>           wd=1e-05                                                                                     \n",
       "<span style=\"color: #7fbfbf; text-decoration-color: #7fbfbf\">           </span>           bag_size=512                                                                                 \n",
       "<span style=\"color: #7fbfbf; text-decoration-color: #7fbfbf\">           </span>           fit_one_cycle=True                                                                           \n",
       "<span style=\"color: #7fbfbf; text-decoration-color: #7fbfbf\">           </span>           epochs=15                                                                                    \n",
       "<span style=\"color: #7fbfbf; text-decoration-color: #7fbfbf\">           </span>           batch_size=64                                                                                \n",
       "<span style=\"color: #7fbfbf; text-decoration-color: #7fbfbf\">           </span>           drop_last=True                                                                               \n",
       "<span style=\"color: #7fbfbf; text-decoration-color: #7fbfbf\">           </span>           save_monitor='valid_loss'                                                                    \n",
       "<span style=\"color: #7fbfbf; text-decoration-color: #7fbfbf\">           </span>           model='clam_sb'                                                                              \n",
       "<span style=\"color: #7fbfbf; text-decoration-color: #7fbfbf\">           </span>           model_size='small'                                                                           \n",
       "<span style=\"color: #7fbfbf; text-decoration-color: #7fbfbf\">           </span>           bag_loss='ce'                                                                                \n",
       "<span style=\"color: #7fbfbf; text-decoration-color: #7fbfbf\">           </span>           bag_weight=0.7                                                                               \n",
       "<span style=\"color: #7fbfbf; text-decoration-color: #7fbfbf\">           </span>           dropout=True                                                                                 \n",
       "<span style=\"color: #7fbfbf; text-decoration-color: #7fbfbf\">           </span>           opt='adam'                                                                                   \n",
       "<span style=\"color: #7fbfbf; text-decoration-color: #7fbfbf\">           </span>           inst_loss='ce'                                                                               \n",
       "<span style=\"color: #7fbfbf; text-decoration-color: #7fbfbf\">           </span>           no_inst_cluster=False                                                                        \n",
       "<span style=\"color: #7fbfbf; text-decoration-color: #7fbfbf\">           </span>           B=8                                                                                          \n",
       "<span style=\"color: #7fbfbf; text-decoration-color: #7fbfbf\">           </span>           model_kwargs=None                                                                            \n",
       "<span style=\"color: #7fbfbf; text-decoration-color: #7fbfbf\">           </span>         )                                                                                              \n",
       "</pre>\n"
      ],
      "text/plain": [
       "\u001b[2;36m          \u001b[0m\u001b[2;36m \u001b[0m\u001b[34mINFO    \u001b[0m TrainerConfigFastAI(                                                                           \n",
       "\u001b[2;36m           \u001b[0m           aggregation_level='slide'                                                                    \n",
       "\u001b[2;36m           \u001b[0m           lr=0.001                                                                                     \n",
       "\u001b[2;36m           \u001b[0m           wd=1e-05                                                                                     \n",
       "\u001b[2;36m           \u001b[0m           bag_size=512                                                                                 \n",
       "\u001b[2;36m           \u001b[0m           fit_one_cycle=True                                                                           \n",
       "\u001b[2;36m           \u001b[0m           epochs=15                                                                                    \n",
       "\u001b[2;36m           \u001b[0m           batch_size=64                                                                                \n",
       "\u001b[2;36m           \u001b[0m           drop_last=True                                                                               \n",
       "\u001b[2;36m           \u001b[0m           save_monitor='valid_loss'                                                                    \n",
       "\u001b[2;36m           \u001b[0m           model='clam_sb'                                                                              \n",
       "\u001b[2;36m           \u001b[0m           model_size='small'                                                                           \n",
       "\u001b[2;36m           \u001b[0m           bag_loss='ce'                                                                                \n",
       "\u001b[2;36m           \u001b[0m           bag_weight=0.7                                                                               \n",
       "\u001b[2;36m           \u001b[0m           dropout=True                                                                                 \n",
       "\u001b[2;36m           \u001b[0m           opt='adam'                                                                                   \n",
       "\u001b[2;36m           \u001b[0m           inst_loss='ce'                                                                               \n",
       "\u001b[2;36m           \u001b[0m           no_inst_cluster=False                                                                        \n",
       "\u001b[2;36m           \u001b[0m           B=8                                                                                          \n",
       "\u001b[2;36m           \u001b[0m           model_kwargs=None                                                                            \n",
       "\u001b[2;36m           \u001b[0m         )                                                                                              \n"
      ]
     },
     "metadata": {},
     "output_type": "display_data"
    },
    {
     "data": {
      "text/html": [
       "<pre style=\"white-space:pre;overflow-x:auto;line-height:normal;font-family:Menlo,'DejaVu Sans Mono',consolas,'Courier New',monospace\"><span style=\"color: #7fbfbf; text-decoration-color: #7fbfbf\">           </span><span style=\"color: #000080; text-decoration-color: #000080\">INFO    </span> Training dataset: 30 merged bags (from 30 possible slides)                                     \n",
       "</pre>\n"
      ],
      "text/plain": [
       "\u001b[2;36m          \u001b[0m\u001b[2;36m \u001b[0m\u001b[34mINFO    \u001b[0m Training dataset: 30 merged bags (from 30 possible slides)                                     \n"
      ]
     },
     "metadata": {},
     "output_type": "display_data"
    },
    {
     "data": {
      "text/html": [
       "<pre style=\"white-space:pre;overflow-x:auto;line-height:normal;font-family:Menlo,'DejaVu Sans Mono',consolas,'Courier New',monospace\"><span style=\"color: #7fbfbf; text-decoration-color: #7fbfbf\">           </span><span style=\"color: #000080; text-decoration-color: #000080\">INFO    </span> Validation dataset: 7 merged bags (from 7 possible slides)                                     \n",
       "</pre>\n"
      ],
      "text/plain": [
       "\u001b[2;36m          \u001b[0m\u001b[2;36m \u001b[0m\u001b[34mINFO    \u001b[0m Validation dataset: 7 merged bags (from 7 possible slides)                                     \n"
      ]
     },
     "metadata": {},
     "output_type": "display_data"
    },
    {
     "data": {
      "text/html": [
       "<pre style=\"white-space:pre;overflow-x:auto;line-height:normal;font-family:Menlo,'DejaVu Sans Mono',consolas,'Courier New',monospace\"><span style=\"color: #7fbfbf; text-decoration-color: #7fbfbf\">[17:40:19] </span><span style=\"color: #000080; text-decoration-color: #000080\">INFO    </span> Training model <span style=\"font-weight: bold\">CLAM_SB</span> (size=[2048, 512, 256], loss=CrossEntropyWithInstanceLoss)              \n",
       "</pre>\n"
      ],
      "text/plain": [
       "\u001b[2;36m[17:40:19]\u001b[0m\u001b[2;36m \u001b[0m\u001b[34mINFO    \u001b[0m Training model \u001b[1mCLAM_SB\u001b[0m (size=[2048, 512, 256], loss=CrossEntropyWithInstanceLoss)              \n"
      ]
     },
     "metadata": {},
     "output_type": "display_data"
    },
    {
     "data": {
      "text/html": [
       "\n",
       "<style>\n",
       "    /* Turns off some styling */\n",
       "    progress {\n",
       "        /* gets rid of default border in Firefox and Opera. */\n",
       "        border: none;\n",
       "        /* Needs to be in here for Safari polyfill so background images work as expected. */\n",
       "        background-size: auto;\n",
       "    }\n",
       "    progress:not([value]), progress:not([value])::-webkit-progress-bar {\n",
       "        background: repeating-linear-gradient(45deg, #7e7e7e, #7e7e7e 10px, #5c5c5c 10px, #5c5c5c 20px);\n",
       "    }\n",
       "    .progress-bar-interrupted, .progress-bar-interrupted::-webkit-progress-bar {\n",
       "        background: #F44336;\n",
       "    }\n",
       "</style>\n"
      ],
      "text/plain": [
       "<IPython.core.display.HTML object>"
      ]
     },
     "metadata": {},
     "output_type": "display_data"
    },
    {
     "data": {
      "text/html": [
       "<table border=\"1\" class=\"dataframe\">\n",
       "  <thead>\n",
       "    <tr style=\"text-align: left;\">\n",
       "      <th>epoch</th>\n",
       "      <th>train_loss</th>\n",
       "      <th>valid_loss</th>\n",
       "      <th>roc_auc_score</th>\n",
       "      <th>time</th>\n",
       "    </tr>\n",
       "  </thead>\n",
       "  <tbody>\n",
       "    <tr>\n",
       "      <td>0</td>\n",
       "      <td>0.661129</td>\n",
       "      <td>0.616969</td>\n",
       "      <td>0.916667</td>\n",
       "      <td>00:05</td>\n",
       "    </tr>\n",
       "    <tr>\n",
       "      <td>1</td>\n",
       "      <td>0.531090</td>\n",
       "      <td>0.402488</td>\n",
       "      <td>0.916667</td>\n",
       "      <td>00:05</td>\n",
       "    </tr>\n",
       "    <tr>\n",
       "      <td>2</td>\n",
       "      <td>0.606376</td>\n",
       "      <td>0.639863</td>\n",
       "      <td>0.916667</td>\n",
       "      <td>00:05</td>\n",
       "    </tr>\n",
       "    <tr>\n",
       "      <td>3</td>\n",
       "      <td>0.476086</td>\n",
       "      <td>0.353800</td>\n",
       "      <td>0.916667</td>\n",
       "      <td>00:05</td>\n",
       "    </tr>\n",
       "    <tr>\n",
       "      <td>4</td>\n",
       "      <td>0.363254</td>\n",
       "      <td>0.283190</td>\n",
       "      <td>0.833333</td>\n",
       "      <td>00:05</td>\n",
       "    </tr>\n",
       "    <tr>\n",
       "      <td>5</td>\n",
       "      <td>0.285083</td>\n",
       "      <td>0.362851</td>\n",
       "      <td>1.000000</td>\n",
       "      <td>00:05</td>\n",
       "    </tr>\n",
       "    <tr>\n",
       "      <td>6</td>\n",
       "      <td>0.194009</td>\n",
       "      <td>0.295524</td>\n",
       "      <td>1.000000</td>\n",
       "      <td>00:05</td>\n",
       "    </tr>\n",
       "    <tr>\n",
       "      <td>7</td>\n",
       "      <td>0.151047</td>\n",
       "      <td>0.091523</td>\n",
       "      <td>1.000000</td>\n",
       "      <td>00:05</td>\n",
       "    </tr>\n",
       "    <tr>\n",
       "      <td>8</td>\n",
       "      <td>0.182067</td>\n",
       "      <td>0.094953</td>\n",
       "      <td>1.000000</td>\n",
       "      <td>00:05</td>\n",
       "    </tr>\n",
       "    <tr>\n",
       "      <td>9</td>\n",
       "      <td>0.127610</td>\n",
       "      <td>0.159034</td>\n",
       "      <td>1.000000</td>\n",
       "      <td>00:05</td>\n",
       "    </tr>\n",
       "    <tr>\n",
       "      <td>10</td>\n",
       "      <td>0.080940</td>\n",
       "      <td>0.151738</td>\n",
       "      <td>1.000000</td>\n",
       "      <td>00:05</td>\n",
       "    </tr>\n",
       "    <tr>\n",
       "      <td>11</td>\n",
       "      <td>0.050664</td>\n",
       "      <td>0.151910</td>\n",
       "      <td>1.000000</td>\n",
       "      <td>00:05</td>\n",
       "    </tr>\n",
       "    <tr>\n",
       "      <td>12</td>\n",
       "      <td>0.033394</td>\n",
       "      <td>0.117534</td>\n",
       "      <td>1.000000</td>\n",
       "      <td>00:05</td>\n",
       "    </tr>\n",
       "    <tr>\n",
       "      <td>13</td>\n",
       "      <td>0.025778</td>\n",
       "      <td>0.114321</td>\n",
       "      <td>1.000000</td>\n",
       "      <td>00:05</td>\n",
       "    </tr>\n",
       "    <tr>\n",
       "      <td>14</td>\n",
       "      <td>0.019216</td>\n",
       "      <td>0.115601</td>\n",
       "      <td>1.000000</td>\n",
       "      <td>00:05</td>\n",
       "    </tr>\n",
       "  </tbody>\n",
       "</table>"
      ],
      "text/plain": [
       "<IPython.core.display.HTML object>"
      ]
     },
     "metadata": {},
     "output_type": "display_data"
    },
    {
     "name": "stdout",
     "output_type": "stream",
     "text": [
      "Better model found at epoch 0 with valid_loss value: 0.6169690489768982.\n",
      "Better model found at epoch 1 with valid_loss value: 0.40248849987983704.\n",
      "Better model found at epoch 3 with valid_loss value: 0.35380032658576965.\n",
      "Better model found at epoch 4 with valid_loss value: 0.28318968415260315.\n",
      "Better model found at epoch 7 with valid_loss value: 0.09152311086654663.\n"
     ]
    },
    {
     "data": {
      "text/html": [
       "<pre style=\"white-space:pre;overflow-x:auto;line-height:normal;font-family:Menlo,'DejaVu Sans Mono',consolas,'Courier New',monospace\"><span style=\"color: #7fbfbf; text-decoration-color: #7fbfbf\">[17:41:38] </span><span style=\"color: #000080; text-decoration-color: #000080\">INFO    </span> Predictions saved to <span style=\"color: #008000; text-decoration-color: #008000\">slideflow_Lyon_TCGA/mil/00000-clam_sb-category/predictions.parquet</span>        \n",
       "</pre>\n"
      ],
      "text/plain": [
       "\u001b[2;36m[17:41:38]\u001b[0m\u001b[2;36m \u001b[0m\u001b[34mINFO    \u001b[0m Predictions saved to \u001b[32mslideflow_Lyon_TCGA/mil/00000-clam_sb-category/predictions.parquet\u001b[0m        \n"
      ]
     },
     "metadata": {},
     "output_type": "display_data"
    },
    {
     "data": {
      "text/html": [
       "<pre style=\"white-space:pre;overflow-x:auto;line-height:normal;font-family:Menlo,'DejaVu Sans Mono',consolas,'Courier New',monospace\"><span style=\"color: #7fbfbf; text-decoration-color: #7fbfbf\">           </span><span style=\"color: #000080; text-decoration-color: #000080\">INFO    </span> Validation metrics for outcome <span style=\"color: #008000; text-decoration-color: #008000\">category</span>:                                                       \n",
       "</pre>\n"
      ],
      "text/plain": [
       "\u001b[2;36m          \u001b[0m\u001b[2;36m \u001b[0m\u001b[34mINFO    \u001b[0m Validation metrics for outcome \u001b[32mcategory\u001b[0m:                                                       \n"
      ]
     },
     "metadata": {},
     "output_type": "display_data"
    },
    {
     "data": {
      "text/html": [
       "<pre style=\"white-space:pre;overflow-x:auto;line-height:normal;font-family:Menlo,'DejaVu Sans Mono',consolas,'Courier New',monospace\"><span style=\"color: #7fbfbf; text-decoration-color: #7fbfbf\">           </span><span style=\"color: #000080; text-decoration-color: #000080\">INFO    </span> slide-level AUC (cat # 0): 1.000 AP: 1.000 (opt. threshold: 0.824)                             \n",
       "</pre>\n"
      ],
      "text/plain": [
       "\u001b[2;36m          \u001b[0m\u001b[2;36m \u001b[0m\u001b[34mINFO    \u001b[0m slide-level AUC (cat # 0): 1.000 AP: 1.000 (opt. threshold: 0.824)                             \n"
      ]
     },
     "metadata": {},
     "output_type": "display_data"
    },
    {
     "data": {
      "text/html": [
       "<pre style=\"white-space:pre;overflow-x:auto;line-height:normal;font-family:Menlo,'DejaVu Sans Mono',consolas,'Courier New',monospace\"><span style=\"color: #7fbfbf; text-decoration-color: #7fbfbf\">           </span><span style=\"color: #000080; text-decoration-color: #000080\">INFO    </span> slide-level AUC (cat # 1): 1.000 AP: 1.000 (opt. threshold: 0.635)                             \n",
       "</pre>\n"
      ],
      "text/plain": [
       "\u001b[2;36m          \u001b[0m\u001b[2;36m \u001b[0m\u001b[34mINFO    \u001b[0m slide-level AUC (cat # 1): 1.000 AP: 1.000 (opt. threshold: 0.635)                             \n"
      ]
     },
     "metadata": {},
     "output_type": "display_data"
    },
    {
     "data": {
      "text/html": [
       "<pre style=\"white-space:pre;overflow-x:auto;line-height:normal;font-family:Menlo,'DejaVu Sans Mono',consolas,'Courier New',monospace\"><span style=\"color: #7fbfbf; text-decoration-color: #7fbfbf\">           </span><span style=\"color: #000080; text-decoration-color: #000080\">INFO    </span> Category 0 acc: 100.0% (4/4)                                                                   \n",
       "</pre>\n"
      ],
      "text/plain": [
       "\u001b[2;36m          \u001b[0m\u001b[2;36m \u001b[0m\u001b[34mINFO    \u001b[0m Category 0 acc: 100.0% (4/4)                                                                   \n"
      ]
     },
     "metadata": {},
     "output_type": "display_data"
    },
    {
     "data": {
      "text/html": [
       "<pre style=\"white-space:pre;overflow-x:auto;line-height:normal;font-family:Menlo,'DejaVu Sans Mono',consolas,'Courier New',monospace\"><span style=\"color: #7fbfbf; text-decoration-color: #7fbfbf\">           </span><span style=\"color: #000080; text-decoration-color: #000080\">INFO    </span> Category 1 acc: 100.0% (3/3)                                                                   \n",
       "</pre>\n"
      ],
      "text/plain": [
       "\u001b[2;36m          \u001b[0m\u001b[2;36m \u001b[0m\u001b[34mINFO    \u001b[0m Category 1 acc: 100.0% (3/3)                                                                   \n"
      ]
     },
     "metadata": {},
     "output_type": "display_data"
    },
    {
     "data": {
      "text/html": [
       "<pre style=\"white-space:pre;overflow-x:auto;line-height:normal;font-family:Menlo,'DejaVu Sans Mono',consolas,'Courier New',monospace\"><span style=\"color: #7fbfbf; text-decoration-color: #7fbfbf\">           </span><span style=\"color: #000080; text-decoration-color: #000080\">INFO    </span> Attention scores exported to                                                                   \n",
       "<span style=\"color: #7fbfbf; text-decoration-color: #7fbfbf\">           </span>         <span style=\"color: #008000; text-decoration-color: #008000\">slideflow_Lyon_TCGA/mil/00000-clam_sb-category/attention/TCGA-57-1992-01Z-00-DX1.1022B1ED-3DC1-</span>\n",
       "<span style=\"color: #7fbfbf; text-decoration-color: #7fbfbf\">           </span>         <span style=\"color: #008000; text-decoration-color: #008000\">4F71-8635-0F8B28138B8C_att.npz</span>                                                                 \n",
       "</pre>\n"
      ],
      "text/plain": [
       "\u001b[2;36m          \u001b[0m\u001b[2;36m \u001b[0m\u001b[34mINFO    \u001b[0m Attention scores exported to                                                                   \n",
       "\u001b[2;36m           \u001b[0m         \u001b[32mslideflow_Lyon_TCGA/mil/00000-clam_sb-category/attention/TCGA-57-1992-01Z-00-DX1.1022B1ED-3DC1-\u001b[0m\n",
       "\u001b[2;36m           \u001b[0m         \u001b[32m4F71-8635-0F8B28138B8C_att.npz\u001b[0m                                                                 \n"
      ]
     },
     "metadata": {},
     "output_type": "display_data"
    },
    {
     "data": {
      "text/html": [
       "<pre style=\"white-space:pre;overflow-x:auto;line-height:normal;font-family:Menlo,'DejaVu Sans Mono',consolas,'Courier New',monospace\"><span style=\"color: #7fbfbf; text-decoration-color: #7fbfbf\">[17:41:39] </span><span style=\"color: #000080; text-decoration-color: #000080\">INFO    </span> Training FastAI MIL model with config:                                                         \n",
       "</pre>\n"
      ],
      "text/plain": [
       "\u001b[2;36m[17:41:39]\u001b[0m\u001b[2;36m \u001b[0m\u001b[34mINFO    \u001b[0m Training FastAI MIL model with config:                                                         \n"
      ]
     },
     "metadata": {},
     "output_type": "display_data"
    },
    {
     "data": {
      "text/html": [
       "<pre style=\"white-space:pre;overflow-x:auto;line-height:normal;font-family:Menlo,'DejaVu Sans Mono',consolas,'Courier New',monospace\"><span style=\"color: #7fbfbf; text-decoration-color: #7fbfbf\">           </span><span style=\"color: #000080; text-decoration-color: #000080\">INFO    </span> TrainerConfigFastAI(                                                                           \n",
       "<span style=\"color: #7fbfbf; text-decoration-color: #7fbfbf\">           </span>           aggregation_level='slide'                                                                    \n",
       "<span style=\"color: #7fbfbf; text-decoration-color: #7fbfbf\">           </span>           lr=0.001                                                                                     \n",
       "<span style=\"color: #7fbfbf; text-decoration-color: #7fbfbf\">           </span>           wd=1e-05                                                                                     \n",
       "<span style=\"color: #7fbfbf; text-decoration-color: #7fbfbf\">           </span>           bag_size=512                                                                                 \n",
       "<span style=\"color: #7fbfbf; text-decoration-color: #7fbfbf\">           </span>           fit_one_cycle=True                                                                           \n",
       "<span style=\"color: #7fbfbf; text-decoration-color: #7fbfbf\">           </span>           epochs=15                                                                                    \n",
       "<span style=\"color: #7fbfbf; text-decoration-color: #7fbfbf\">           </span>           batch_size=64                                                                                \n",
       "<span style=\"color: #7fbfbf; text-decoration-color: #7fbfbf\">           </span>           drop_last=True                                                                               \n",
       "<span style=\"color: #7fbfbf; text-decoration-color: #7fbfbf\">           </span>           save_monitor='valid_loss'                                                                    \n",
       "<span style=\"color: #7fbfbf; text-decoration-color: #7fbfbf\">           </span>           model='clam_sb'                                                                              \n",
       "<span style=\"color: #7fbfbf; text-decoration-color: #7fbfbf\">           </span>           model_size='small'                                                                           \n",
       "<span style=\"color: #7fbfbf; text-decoration-color: #7fbfbf\">           </span>           bag_loss='ce'                                                                                \n",
       "<span style=\"color: #7fbfbf; text-decoration-color: #7fbfbf\">           </span>           bag_weight=0.7                                                                               \n",
       "<span style=\"color: #7fbfbf; text-decoration-color: #7fbfbf\">           </span>           dropout=True                                                                                 \n",
       "<span style=\"color: #7fbfbf; text-decoration-color: #7fbfbf\">           </span>           opt='adam'                                                                                   \n",
       "<span style=\"color: #7fbfbf; text-decoration-color: #7fbfbf\">           </span>           inst_loss='ce'                                                                               \n",
       "<span style=\"color: #7fbfbf; text-decoration-color: #7fbfbf\">           </span>           no_inst_cluster=False                                                                        \n",
       "<span style=\"color: #7fbfbf; text-decoration-color: #7fbfbf\">           </span>           B=8                                                                                          \n",
       "<span style=\"color: #7fbfbf; text-decoration-color: #7fbfbf\">           </span>           model_kwargs=None                                                                            \n",
       "<span style=\"color: #7fbfbf; text-decoration-color: #7fbfbf\">           </span>         )                                                                                              \n",
       "</pre>\n"
      ],
      "text/plain": [
       "\u001b[2;36m          \u001b[0m\u001b[2;36m \u001b[0m\u001b[34mINFO    \u001b[0m TrainerConfigFastAI(                                                                           \n",
       "\u001b[2;36m           \u001b[0m           aggregation_level='slide'                                                                    \n",
       "\u001b[2;36m           \u001b[0m           lr=0.001                                                                                     \n",
       "\u001b[2;36m           \u001b[0m           wd=1e-05                                                                                     \n",
       "\u001b[2;36m           \u001b[0m           bag_size=512                                                                                 \n",
       "\u001b[2;36m           \u001b[0m           fit_one_cycle=True                                                                           \n",
       "\u001b[2;36m           \u001b[0m           epochs=15                                                                                    \n",
       "\u001b[2;36m           \u001b[0m           batch_size=64                                                                                \n",
       "\u001b[2;36m           \u001b[0m           drop_last=True                                                                               \n",
       "\u001b[2;36m           \u001b[0m           save_monitor='valid_loss'                                                                    \n",
       "\u001b[2;36m           \u001b[0m           model='clam_sb'                                                                              \n",
       "\u001b[2;36m           \u001b[0m           model_size='small'                                                                           \n",
       "\u001b[2;36m           \u001b[0m           bag_loss='ce'                                                                                \n",
       "\u001b[2;36m           \u001b[0m           bag_weight=0.7                                                                               \n",
       "\u001b[2;36m           \u001b[0m           dropout=True                                                                                 \n",
       "\u001b[2;36m           \u001b[0m           opt='adam'                                                                                   \n",
       "\u001b[2;36m           \u001b[0m           inst_loss='ce'                                                                               \n",
       "\u001b[2;36m           \u001b[0m           no_inst_cluster=False                                                                        \n",
       "\u001b[2;36m           \u001b[0m           B=8                                                                                          \n",
       "\u001b[2;36m           \u001b[0m           model_kwargs=None                                                                            \n",
       "\u001b[2;36m           \u001b[0m         )                                                                                              \n"
      ]
     },
     "metadata": {},
     "output_type": "display_data"
    },
    {
     "data": {
      "text/html": [
       "<pre style=\"white-space:pre;overflow-x:auto;line-height:normal;font-family:Menlo,'DejaVu Sans Mono',consolas,'Courier New',monospace\"><span style=\"color: #7fbfbf; text-decoration-color: #7fbfbf\">           </span><span style=\"color: #000080; text-decoration-color: #000080\">INFO    </span> Training dataset: 30 merged bags (from 30 possible slides)                                     \n",
       "</pre>\n"
      ],
      "text/plain": [
       "\u001b[2;36m          \u001b[0m\u001b[2;36m \u001b[0m\u001b[34mINFO    \u001b[0m Training dataset: 30 merged bags (from 30 possible slides)                                     \n"
      ]
     },
     "metadata": {},
     "output_type": "display_data"
    },
    {
     "data": {
      "text/html": [
       "<pre style=\"white-space:pre;overflow-x:auto;line-height:normal;font-family:Menlo,'DejaVu Sans Mono',consolas,'Courier New',monospace\"><span style=\"color: #7fbfbf; text-decoration-color: #7fbfbf\">           </span><span style=\"color: #000080; text-decoration-color: #000080\">INFO    </span> Validation dataset: 7 merged bags (from 7 possible slides)                                     \n",
       "</pre>\n"
      ],
      "text/plain": [
       "\u001b[2;36m          \u001b[0m\u001b[2;36m \u001b[0m\u001b[34mINFO    \u001b[0m Validation dataset: 7 merged bags (from 7 possible slides)                                     \n"
      ]
     },
     "metadata": {},
     "output_type": "display_data"
    },
    {
     "data": {
      "text/html": [
       "<pre style=\"white-space:pre;overflow-x:auto;line-height:normal;font-family:Menlo,'DejaVu Sans Mono',consolas,'Courier New',monospace\"><span style=\"color: #7fbfbf; text-decoration-color: #7fbfbf\">           </span><span style=\"color: #000080; text-decoration-color: #000080\">INFO    </span> Training model <span style=\"font-weight: bold\">CLAM_SB</span> (size=[2048, 512, 256], loss=CrossEntropyWithInstanceLoss)              \n",
       "</pre>\n"
      ],
      "text/plain": [
       "\u001b[2;36m          \u001b[0m\u001b[2;36m \u001b[0m\u001b[34mINFO    \u001b[0m Training model \u001b[1mCLAM_SB\u001b[0m (size=[2048, 512, 256], loss=CrossEntropyWithInstanceLoss)              \n"
      ]
     },
     "metadata": {},
     "output_type": "display_data"
    },
    {
     "data": {
      "text/html": [
       "\n",
       "<style>\n",
       "    /* Turns off some styling */\n",
       "    progress {\n",
       "        /* gets rid of default border in Firefox and Opera. */\n",
       "        border: none;\n",
       "        /* Needs to be in here for Safari polyfill so background images work as expected. */\n",
       "        background-size: auto;\n",
       "    }\n",
       "    progress:not([value]), progress:not([value])::-webkit-progress-bar {\n",
       "        background: repeating-linear-gradient(45deg, #7e7e7e, #7e7e7e 10px, #5c5c5c 10px, #5c5c5c 20px);\n",
       "    }\n",
       "    .progress-bar-interrupted, .progress-bar-interrupted::-webkit-progress-bar {\n",
       "        background: #F44336;\n",
       "    }\n",
       "</style>\n"
      ],
      "text/plain": [
       "<IPython.core.display.HTML object>"
      ]
     },
     "metadata": {},
     "output_type": "display_data"
    },
    {
     "data": {
      "text/html": [
       "<table border=\"1\" class=\"dataframe\">\n",
       "  <thead>\n",
       "    <tr style=\"text-align: left;\">\n",
       "      <th>epoch</th>\n",
       "      <th>train_loss</th>\n",
       "      <th>valid_loss</th>\n",
       "      <th>roc_auc_score</th>\n",
       "      <th>time</th>\n",
       "    </tr>\n",
       "  </thead>\n",
       "  <tbody>\n",
       "    <tr>\n",
       "      <td>0</td>\n",
       "      <td>0.671459</td>\n",
       "      <td>0.634614</td>\n",
       "      <td>0.583333</td>\n",
       "      <td>00:04</td>\n",
       "    </tr>\n",
       "    <tr>\n",
       "      <td>1</td>\n",
       "      <td>0.522172</td>\n",
       "      <td>0.548540</td>\n",
       "      <td>0.833333</td>\n",
       "      <td>00:04</td>\n",
       "    </tr>\n",
       "    <tr>\n",
       "      <td>2</td>\n",
       "      <td>0.406133</td>\n",
       "      <td>0.873033</td>\n",
       "      <td>0.750000</td>\n",
       "      <td>00:04</td>\n",
       "    </tr>\n",
       "    <tr>\n",
       "      <td>3</td>\n",
       "      <td>0.289712</td>\n",
       "      <td>0.760725</td>\n",
       "      <td>0.916667</td>\n",
       "      <td>00:04</td>\n",
       "    </tr>\n",
       "    <tr>\n",
       "      <td>4</td>\n",
       "      <td>0.243096</td>\n",
       "      <td>0.240812</td>\n",
       "      <td>0.916667</td>\n",
       "      <td>00:04</td>\n",
       "    </tr>\n",
       "    <tr>\n",
       "      <td>5</td>\n",
       "      <td>0.223548</td>\n",
       "      <td>0.917824</td>\n",
       "      <td>0.916667</td>\n",
       "      <td>00:04</td>\n",
       "    </tr>\n",
       "    <tr>\n",
       "      <td>6</td>\n",
       "      <td>0.154456</td>\n",
       "      <td>0.492890</td>\n",
       "      <td>0.833333</td>\n",
       "      <td>00:04</td>\n",
       "    </tr>\n",
       "    <tr>\n",
       "      <td>7</td>\n",
       "      <td>0.092479</td>\n",
       "      <td>0.310152</td>\n",
       "      <td>0.833333</td>\n",
       "      <td>00:04</td>\n",
       "    </tr>\n",
       "    <tr>\n",
       "      <td>8</td>\n",
       "      <td>0.055069</td>\n",
       "      <td>0.348829</td>\n",
       "      <td>0.833333</td>\n",
       "      <td>00:04</td>\n",
       "    </tr>\n",
       "    <tr>\n",
       "      <td>9</td>\n",
       "      <td>0.033313</td>\n",
       "      <td>0.363111</td>\n",
       "      <td>0.833333</td>\n",
       "      <td>00:04</td>\n",
       "    </tr>\n",
       "    <tr>\n",
       "      <td>10</td>\n",
       "      <td>0.020053</td>\n",
       "      <td>0.364519</td>\n",
       "      <td>0.833333</td>\n",
       "      <td>00:04</td>\n",
       "    </tr>\n",
       "    <tr>\n",
       "      <td>11</td>\n",
       "      <td>0.012702</td>\n",
       "      <td>0.376689</td>\n",
       "      <td>0.833333</td>\n",
       "      <td>00:04</td>\n",
       "    </tr>\n",
       "    <tr>\n",
       "      <td>12</td>\n",
       "      <td>0.009043</td>\n",
       "      <td>0.377356</td>\n",
       "      <td>0.833333</td>\n",
       "      <td>00:04</td>\n",
       "    </tr>\n",
       "    <tr>\n",
       "      <td>13</td>\n",
       "      <td>0.007101</td>\n",
       "      <td>0.379605</td>\n",
       "      <td>0.833333</td>\n",
       "      <td>00:04</td>\n",
       "    </tr>\n",
       "    <tr>\n",
       "      <td>14</td>\n",
       "      <td>0.005305</td>\n",
       "      <td>0.379932</td>\n",
       "      <td>0.833333</td>\n",
       "      <td>00:04</td>\n",
       "    </tr>\n",
       "  </tbody>\n",
       "</table>"
      ],
      "text/plain": [
       "<IPython.core.display.HTML object>"
      ]
     },
     "metadata": {},
     "output_type": "display_data"
    },
    {
     "name": "stdout",
     "output_type": "stream",
     "text": [
      "Better model found at epoch 0 with valid_loss value: 0.6346144676208496.\n",
      "Better model found at epoch 1 with valid_loss value: 0.5485396385192871.\n",
      "Better model found at epoch 4 with valid_loss value: 0.2408123016357422.\n"
     ]
    },
    {
     "data": {
      "text/html": [
       "<pre style=\"white-space:pre;overflow-x:auto;line-height:normal;font-family:Menlo,'DejaVu Sans Mono',consolas,'Courier New',monospace\"><span style=\"color: #7fbfbf; text-decoration-color: #7fbfbf\">[17:42:53] </span><span style=\"color: #000080; text-decoration-color: #000080\">INFO    </span> Predictions saved to <span style=\"color: #008000; text-decoration-color: #008000\">slideflow_Lyon_TCGA/mil/00001-clam_sb-category/predictions.parquet</span>        \n",
       "</pre>\n"
      ],
      "text/plain": [
       "\u001b[2;36m[17:42:53]\u001b[0m\u001b[2;36m \u001b[0m\u001b[34mINFO    \u001b[0m Predictions saved to \u001b[32mslideflow_Lyon_TCGA/mil/00001-clam_sb-category/predictions.parquet\u001b[0m        \n"
      ]
     },
     "metadata": {},
     "output_type": "display_data"
    },
    {
     "data": {
      "text/html": [
       "<pre style=\"white-space:pre;overflow-x:auto;line-height:normal;font-family:Menlo,'DejaVu Sans Mono',consolas,'Courier New',monospace\"><span style=\"color: #7fbfbf; text-decoration-color: #7fbfbf\">           </span><span style=\"color: #000080; text-decoration-color: #000080\">INFO    </span> Validation metrics for outcome <span style=\"color: #008000; text-decoration-color: #008000\">category</span>:                                                       \n",
       "</pre>\n"
      ],
      "text/plain": [
       "\u001b[2;36m          \u001b[0m\u001b[2;36m \u001b[0m\u001b[34mINFO    \u001b[0m Validation metrics for outcome \u001b[32mcategory\u001b[0m:                                                       \n"
      ]
     },
     "metadata": {},
     "output_type": "display_data"
    },
    {
     "data": {
      "text/html": [
       "<pre style=\"white-space:pre;overflow-x:auto;line-height:normal;font-family:Menlo,'DejaVu Sans Mono',consolas,'Courier New',monospace\"><span style=\"color: #7fbfbf; text-decoration-color: #7fbfbf\">           </span><span style=\"color: #000080; text-decoration-color: #000080\">INFO    </span> slide-level AUC (cat # 0): 0.917 AP: 0.917 (opt. threshold: 0.301)                             \n",
       "</pre>\n"
      ],
      "text/plain": [
       "\u001b[2;36m          \u001b[0m\u001b[2;36m \u001b[0m\u001b[34mINFO    \u001b[0m slide-level AUC (cat # 0): 0.917 AP: 0.917 (opt. threshold: 0.301)                             \n"
      ]
     },
     "metadata": {},
     "output_type": "display_data"
    },
    {
     "data": {
      "text/html": [
       "<pre style=\"white-space:pre;overflow-x:auto;line-height:normal;font-family:Menlo,'DejaVu Sans Mono',consolas,'Courier New',monospace\"><span style=\"color: #7fbfbf; text-decoration-color: #7fbfbf\">           </span><span style=\"color: #000080; text-decoration-color: #000080\">INFO    </span> slide-level AUC (cat # 1): 0.917 AP: 0.950 (opt. threshold: 0.700)                             \n",
       "</pre>\n"
      ],
      "text/plain": [
       "\u001b[2;36m          \u001b[0m\u001b[2;36m \u001b[0m\u001b[34mINFO    \u001b[0m slide-level AUC (cat # 1): 0.917 AP: 0.950 (opt. threshold: 0.700)                             \n"
      ]
     },
     "metadata": {},
     "output_type": "display_data"
    },
    {
     "data": {
      "text/html": [
       "<pre style=\"white-space:pre;overflow-x:auto;line-height:normal;font-family:Menlo,'DejaVu Sans Mono',consolas,'Courier New',monospace\"><span style=\"color: #7fbfbf; text-decoration-color: #7fbfbf\">           </span><span style=\"color: #000080; text-decoration-color: #000080\">INFO    </span> Category 0 acc: 66.7% (2/3)                                                                    \n",
       "</pre>\n"
      ],
      "text/plain": [
       "\u001b[2;36m          \u001b[0m\u001b[2;36m \u001b[0m\u001b[34mINFO    \u001b[0m Category 0 acc: 66.7% (2/3)                                                                    \n"
      ]
     },
     "metadata": {},
     "output_type": "display_data"
    },
    {
     "data": {
      "text/html": [
       "<pre style=\"white-space:pre;overflow-x:auto;line-height:normal;font-family:Menlo,'DejaVu Sans Mono',consolas,'Courier New',monospace\"><span style=\"color: #7fbfbf; text-decoration-color: #7fbfbf\">           </span><span style=\"color: #000080; text-decoration-color: #000080\">INFO    </span> Category 1 acc: 100.0% (4/4)                                                                   \n",
       "</pre>\n"
      ],
      "text/plain": [
       "\u001b[2;36m          \u001b[0m\u001b[2;36m \u001b[0m\u001b[34mINFO    \u001b[0m Category 1 acc: 100.0% (4/4)                                                                   \n"
      ]
     },
     "metadata": {},
     "output_type": "display_data"
    },
    {
     "data": {
      "text/html": [
       "<pre style=\"white-space:pre;overflow-x:auto;line-height:normal;font-family:Menlo,'DejaVu Sans Mono',consolas,'Courier New',monospace\"><span style=\"color: #7fbfbf; text-decoration-color: #7fbfbf\">           </span><span style=\"color: #000080; text-decoration-color: #000080\">INFO    </span> Attention scores exported to                                                                   \n",
       "<span style=\"color: #7fbfbf; text-decoration-color: #7fbfbf\">           </span>         <span style=\"color: #008000; text-decoration-color: #008000\">slideflow_Lyon_TCGA/mil/00001-clam_sb-category/attention/TCGA-25-2390-01Z-00-DX1.BC83304E-747C-</span>\n",
       "<span style=\"color: #7fbfbf; text-decoration-color: #7fbfbf\">           </span>         <span style=\"color: #008000; text-decoration-color: #008000\">47EC-BD80-BA0B322C8630_att.npz</span>                                                                 \n",
       "</pre>\n"
      ],
      "text/plain": [
       "\u001b[2;36m          \u001b[0m\u001b[2;36m \u001b[0m\u001b[34mINFO    \u001b[0m Attention scores exported to                                                                   \n",
       "\u001b[2;36m           \u001b[0m         \u001b[32mslideflow_Lyon_TCGA/mil/00001-clam_sb-category/attention/TCGA-25-2390-01Z-00-DX1.BC83304E-747C-\u001b[0m\n",
       "\u001b[2;36m           \u001b[0m         \u001b[32m47EC-BD80-BA0B322C8630_att.npz\u001b[0m                                                                 \n"
      ]
     },
     "metadata": {},
     "output_type": "display_data"
    },
    {
     "data": {
      "text/html": [
       "<pre style=\"white-space:pre;overflow-x:auto;line-height:normal;font-family:Menlo,'DejaVu Sans Mono',consolas,'Courier New',monospace\"><span style=\"color: #7fbfbf; text-decoration-color: #7fbfbf\">           </span><span style=\"color: #000080; text-decoration-color: #000080\">INFO    </span> Training FastAI MIL model with config:                                                         \n",
       "</pre>\n"
      ],
      "text/plain": [
       "\u001b[2;36m          \u001b[0m\u001b[2;36m \u001b[0m\u001b[34mINFO    \u001b[0m Training FastAI MIL model with config:                                                         \n"
      ]
     },
     "metadata": {},
     "output_type": "display_data"
    },
    {
     "data": {
      "text/html": [
       "<pre style=\"white-space:pre;overflow-x:auto;line-height:normal;font-family:Menlo,'DejaVu Sans Mono',consolas,'Courier New',monospace\"><span style=\"color: #7fbfbf; text-decoration-color: #7fbfbf\">           </span><span style=\"color: #000080; text-decoration-color: #000080\">INFO    </span> TrainerConfigFastAI(                                                                           \n",
       "<span style=\"color: #7fbfbf; text-decoration-color: #7fbfbf\">           </span>           aggregation_level='slide'                                                                    \n",
       "<span style=\"color: #7fbfbf; text-decoration-color: #7fbfbf\">           </span>           lr=0.001                                                                                     \n",
       "<span style=\"color: #7fbfbf; text-decoration-color: #7fbfbf\">           </span>           wd=1e-05                                                                                     \n",
       "<span style=\"color: #7fbfbf; text-decoration-color: #7fbfbf\">           </span>           bag_size=512                                                                                 \n",
       "<span style=\"color: #7fbfbf; text-decoration-color: #7fbfbf\">           </span>           fit_one_cycle=True                                                                           \n",
       "<span style=\"color: #7fbfbf; text-decoration-color: #7fbfbf\">           </span>           epochs=15                                                                                    \n",
       "<span style=\"color: #7fbfbf; text-decoration-color: #7fbfbf\">           </span>           batch_size=64                                                                                \n",
       "<span style=\"color: #7fbfbf; text-decoration-color: #7fbfbf\">           </span>           drop_last=True                                                                               \n",
       "<span style=\"color: #7fbfbf; text-decoration-color: #7fbfbf\">           </span>           save_monitor='valid_loss'                                                                    \n",
       "<span style=\"color: #7fbfbf; text-decoration-color: #7fbfbf\">           </span>           model='clam_sb'                                                                              \n",
       "<span style=\"color: #7fbfbf; text-decoration-color: #7fbfbf\">           </span>           model_size='small'                                                                           \n",
       "<span style=\"color: #7fbfbf; text-decoration-color: #7fbfbf\">           </span>           bag_loss='ce'                                                                                \n",
       "<span style=\"color: #7fbfbf; text-decoration-color: #7fbfbf\">           </span>           bag_weight=0.7                                                                               \n",
       "<span style=\"color: #7fbfbf; text-decoration-color: #7fbfbf\">           </span>           dropout=True                                                                                 \n",
       "<span style=\"color: #7fbfbf; text-decoration-color: #7fbfbf\">           </span>           opt='adam'                                                                                   \n",
       "<span style=\"color: #7fbfbf; text-decoration-color: #7fbfbf\">           </span>           inst_loss='ce'                                                                               \n",
       "<span style=\"color: #7fbfbf; text-decoration-color: #7fbfbf\">           </span>           no_inst_cluster=False                                                                        \n",
       "<span style=\"color: #7fbfbf; text-decoration-color: #7fbfbf\">           </span>           B=8                                                                                          \n",
       "<span style=\"color: #7fbfbf; text-decoration-color: #7fbfbf\">           </span>           model_kwargs=None                                                                            \n",
       "<span style=\"color: #7fbfbf; text-decoration-color: #7fbfbf\">           </span>         )                                                                                              \n",
       "</pre>\n"
      ],
      "text/plain": [
       "\u001b[2;36m          \u001b[0m\u001b[2;36m \u001b[0m\u001b[34mINFO    \u001b[0m TrainerConfigFastAI(                                                                           \n",
       "\u001b[2;36m           \u001b[0m           aggregation_level='slide'                                                                    \n",
       "\u001b[2;36m           \u001b[0m           lr=0.001                                                                                     \n",
       "\u001b[2;36m           \u001b[0m           wd=1e-05                                                                                     \n",
       "\u001b[2;36m           \u001b[0m           bag_size=512                                                                                 \n",
       "\u001b[2;36m           \u001b[0m           fit_one_cycle=True                                                                           \n",
       "\u001b[2;36m           \u001b[0m           epochs=15                                                                                    \n",
       "\u001b[2;36m           \u001b[0m           batch_size=64                                                                                \n",
       "\u001b[2;36m           \u001b[0m           drop_last=True                                                                               \n",
       "\u001b[2;36m           \u001b[0m           save_monitor='valid_loss'                                                                    \n",
       "\u001b[2;36m           \u001b[0m           model='clam_sb'                                                                              \n",
       "\u001b[2;36m           \u001b[0m           model_size='small'                                                                           \n",
       "\u001b[2;36m           \u001b[0m           bag_loss='ce'                                                                                \n",
       "\u001b[2;36m           \u001b[0m           bag_weight=0.7                                                                               \n",
       "\u001b[2;36m           \u001b[0m           dropout=True                                                                                 \n",
       "\u001b[2;36m           \u001b[0m           opt='adam'                                                                                   \n",
       "\u001b[2;36m           \u001b[0m           inst_loss='ce'                                                                               \n",
       "\u001b[2;36m           \u001b[0m           no_inst_cluster=False                                                                        \n",
       "\u001b[2;36m           \u001b[0m           B=8                                                                                          \n",
       "\u001b[2;36m           \u001b[0m           model_kwargs=None                                                                            \n",
       "\u001b[2;36m           \u001b[0m         )                                                                                              \n"
      ]
     },
     "metadata": {},
     "output_type": "display_data"
    },
    {
     "data": {
      "text/html": [
       "<pre style=\"white-space:pre;overflow-x:auto;line-height:normal;font-family:Menlo,'DejaVu Sans Mono',consolas,'Courier New',monospace\"><span style=\"color: #7fbfbf; text-decoration-color: #7fbfbf\">           </span><span style=\"color: #000080; text-decoration-color: #000080\">INFO    </span> Training dataset: 30 merged bags (from 30 possible slides)                                     \n",
       "</pre>\n"
      ],
      "text/plain": [
       "\u001b[2;36m          \u001b[0m\u001b[2;36m \u001b[0m\u001b[34mINFO    \u001b[0m Training dataset: 30 merged bags (from 30 possible slides)                                     \n"
      ]
     },
     "metadata": {},
     "output_type": "display_data"
    },
    {
     "data": {
      "text/html": [
       "<pre style=\"white-space:pre;overflow-x:auto;line-height:normal;font-family:Menlo,'DejaVu Sans Mono',consolas,'Courier New',monospace\"><span style=\"color: #7fbfbf; text-decoration-color: #7fbfbf\">           </span><span style=\"color: #000080; text-decoration-color: #000080\">INFO    </span> Validation dataset: 7 merged bags (from 7 possible slides)                                     \n",
       "</pre>\n"
      ],
      "text/plain": [
       "\u001b[2;36m          \u001b[0m\u001b[2;36m \u001b[0m\u001b[34mINFO    \u001b[0m Validation dataset: 7 merged bags (from 7 possible slides)                                     \n"
      ]
     },
     "metadata": {},
     "output_type": "display_data"
    },
    {
     "data": {
      "text/html": [
       "<pre style=\"white-space:pre;overflow-x:auto;line-height:normal;font-family:Menlo,'DejaVu Sans Mono',consolas,'Courier New',monospace\"><span style=\"color: #7fbfbf; text-decoration-color: #7fbfbf\">           </span><span style=\"color: #000080; text-decoration-color: #000080\">INFO    </span> Training model <span style=\"font-weight: bold\">CLAM_SB</span> (size=[2048, 512, 256], loss=CrossEntropyWithInstanceLoss)              \n",
       "</pre>\n"
      ],
      "text/plain": [
       "\u001b[2;36m          \u001b[0m\u001b[2;36m \u001b[0m\u001b[34mINFO    \u001b[0m Training model \u001b[1mCLAM_SB\u001b[0m (size=[2048, 512, 256], loss=CrossEntropyWithInstanceLoss)              \n"
      ]
     },
     "metadata": {},
     "output_type": "display_data"
    },
    {
     "data": {
      "text/html": [
       "\n",
       "<style>\n",
       "    /* Turns off some styling */\n",
       "    progress {\n",
       "        /* gets rid of default border in Firefox and Opera. */\n",
       "        border: none;\n",
       "        /* Needs to be in here for Safari polyfill so background images work as expected. */\n",
       "        background-size: auto;\n",
       "    }\n",
       "    progress:not([value]), progress:not([value])::-webkit-progress-bar {\n",
       "        background: repeating-linear-gradient(45deg, #7e7e7e, #7e7e7e 10px, #5c5c5c 10px, #5c5c5c 20px);\n",
       "    }\n",
       "    .progress-bar-interrupted, .progress-bar-interrupted::-webkit-progress-bar {\n",
       "        background: #F44336;\n",
       "    }\n",
       "</style>\n"
      ],
      "text/plain": [
       "<IPython.core.display.HTML object>"
      ]
     },
     "metadata": {},
     "output_type": "display_data"
    },
    {
     "data": {
      "text/html": [
       "<table border=\"1\" class=\"dataframe\">\n",
       "  <thead>\n",
       "    <tr style=\"text-align: left;\">\n",
       "      <th>epoch</th>\n",
       "      <th>train_loss</th>\n",
       "      <th>valid_loss</th>\n",
       "      <th>roc_auc_score</th>\n",
       "      <th>time</th>\n",
       "    </tr>\n",
       "  </thead>\n",
       "  <tbody>\n",
       "    <tr>\n",
       "      <td>0</td>\n",
       "      <td>0.709958</td>\n",
       "      <td>0.621443</td>\n",
       "      <td>0.833333</td>\n",
       "      <td>00:05</td>\n",
       "    </tr>\n",
       "    <tr>\n",
       "      <td>1</td>\n",
       "      <td>0.593359</td>\n",
       "      <td>0.676871</td>\n",
       "      <td>0.833333</td>\n",
       "      <td>00:05</td>\n",
       "    </tr>\n",
       "    <tr>\n",
       "      <td>2</td>\n",
       "      <td>0.577858</td>\n",
       "      <td>0.339464</td>\n",
       "      <td>0.916667</td>\n",
       "      <td>00:05</td>\n",
       "    </tr>\n",
       "    <tr>\n",
       "      <td>3</td>\n",
       "      <td>0.518767</td>\n",
       "      <td>0.304581</td>\n",
       "      <td>1.000000</td>\n",
       "      <td>00:05</td>\n",
       "    </tr>\n",
       "    <tr>\n",
       "      <td>4</td>\n",
       "      <td>0.430165</td>\n",
       "      <td>0.177171</td>\n",
       "      <td>1.000000</td>\n",
       "      <td>00:05</td>\n",
       "    </tr>\n",
       "    <tr>\n",
       "      <td>5</td>\n",
       "      <td>0.321162</td>\n",
       "      <td>0.161065</td>\n",
       "      <td>1.000000</td>\n",
       "      <td>00:05</td>\n",
       "    </tr>\n",
       "    <tr>\n",
       "      <td>6</td>\n",
       "      <td>0.253246</td>\n",
       "      <td>0.076895</td>\n",
       "      <td>1.000000</td>\n",
       "      <td>00:05</td>\n",
       "    </tr>\n",
       "    <tr>\n",
       "      <td>7</td>\n",
       "      <td>0.179834</td>\n",
       "      <td>0.121435</td>\n",
       "      <td>1.000000</td>\n",
       "      <td>00:05</td>\n",
       "    </tr>\n",
       "    <tr>\n",
       "      <td>8</td>\n",
       "      <td>0.146659</td>\n",
       "      <td>0.111765</td>\n",
       "      <td>1.000000</td>\n",
       "      <td>00:05</td>\n",
       "    </tr>\n",
       "    <tr>\n",
       "      <td>9</td>\n",
       "      <td>0.096345</td>\n",
       "      <td>0.012742</td>\n",
       "      <td>1.000000</td>\n",
       "      <td>00:05</td>\n",
       "    </tr>\n",
       "    <tr>\n",
       "      <td>10</td>\n",
       "      <td>0.062509</td>\n",
       "      <td>0.012861</td>\n",
       "      <td>1.000000</td>\n",
       "      <td>00:05</td>\n",
       "    </tr>\n",
       "    <tr>\n",
       "      <td>11</td>\n",
       "      <td>0.043992</td>\n",
       "      <td>0.012881</td>\n",
       "      <td>1.000000</td>\n",
       "      <td>00:05</td>\n",
       "    </tr>\n",
       "    <tr>\n",
       "      <td>12</td>\n",
       "      <td>0.028654</td>\n",
       "      <td>0.013485</td>\n",
       "      <td>1.000000</td>\n",
       "      <td>00:05</td>\n",
       "    </tr>\n",
       "    <tr>\n",
       "      <td>13</td>\n",
       "      <td>0.047569</td>\n",
       "      <td>0.012158</td>\n",
       "      <td>1.000000</td>\n",
       "      <td>00:05</td>\n",
       "    </tr>\n",
       "    <tr>\n",
       "      <td>14</td>\n",
       "      <td>0.029990</td>\n",
       "      <td>0.011272</td>\n",
       "      <td>1.000000</td>\n",
       "      <td>00:05</td>\n",
       "    </tr>\n",
       "  </tbody>\n",
       "</table>"
      ],
      "text/plain": [
       "<IPython.core.display.HTML object>"
      ]
     },
     "metadata": {},
     "output_type": "display_data"
    },
    {
     "name": "stdout",
     "output_type": "stream",
     "text": [
      "Better model found at epoch 0 with valid_loss value: 0.6214432716369629.\n",
      "Better model found at epoch 2 with valid_loss value: 0.33946365118026733.\n",
      "Better model found at epoch 3 with valid_loss value: 0.3045806884765625.\n",
      "Better model found at epoch 4 with valid_loss value: 0.17717072367668152.\n",
      "Better model found at epoch 5 with valid_loss value: 0.1610645055770874.\n",
      "Better model found at epoch 6 with valid_loss value: 0.07689547538757324.\n",
      "Better model found at epoch 9 with valid_loss value: 0.012741544283926487.\n",
      "Better model found at epoch 13 with valid_loss value: 0.01215849258005619.\n",
      "Better model found at epoch 14 with valid_loss value: 0.011272123083472252.\n"
     ]
    },
    {
     "data": {
      "text/html": [
       "<pre style=\"white-space:pre;overflow-x:auto;line-height:normal;font-family:Menlo,'DejaVu Sans Mono',consolas,'Courier New',monospace\"><span style=\"color: #7fbfbf; text-decoration-color: #7fbfbf\">[17:44:17] </span><span style=\"color: #000080; text-decoration-color: #000080\">INFO    </span> Predictions saved to <span style=\"color: #008000; text-decoration-color: #008000\">slideflow_Lyon_TCGA/mil/00002-clam_sb-category/predictions.parquet</span>        \n",
       "</pre>\n"
      ],
      "text/plain": [
       "\u001b[2;36m[17:44:17]\u001b[0m\u001b[2;36m \u001b[0m\u001b[34mINFO    \u001b[0m Predictions saved to \u001b[32mslideflow_Lyon_TCGA/mil/00002-clam_sb-category/predictions.parquet\u001b[0m        \n"
      ]
     },
     "metadata": {},
     "output_type": "display_data"
    },
    {
     "data": {
      "text/html": [
       "<pre style=\"white-space:pre;overflow-x:auto;line-height:normal;font-family:Menlo,'DejaVu Sans Mono',consolas,'Courier New',monospace\"><span style=\"color: #7fbfbf; text-decoration-color: #7fbfbf\">           </span><span style=\"color: #000080; text-decoration-color: #000080\">INFO    </span> Validation metrics for outcome <span style=\"color: #008000; text-decoration-color: #008000\">category</span>:                                                       \n",
       "</pre>\n"
      ],
      "text/plain": [
       "\u001b[2;36m          \u001b[0m\u001b[2;36m \u001b[0m\u001b[34mINFO    \u001b[0m Validation metrics for outcome \u001b[32mcategory\u001b[0m:                                                       \n"
      ]
     },
     "metadata": {},
     "output_type": "display_data"
    },
    {
     "data": {
      "text/html": [
       "<pre style=\"white-space:pre;overflow-x:auto;line-height:normal;font-family:Menlo,'DejaVu Sans Mono',consolas,'Courier New',monospace\"><span style=\"color: #7fbfbf; text-decoration-color: #7fbfbf\">           </span><span style=\"color: #000080; text-decoration-color: #000080\">INFO    </span> slide-level AUC (cat # 0): 1.000 AP: 1.000 (opt. threshold: 0.944)                             \n",
       "</pre>\n"
      ],
      "text/plain": [
       "\u001b[2;36m          \u001b[0m\u001b[2;36m \u001b[0m\u001b[34mINFO    \u001b[0m slide-level AUC (cat # 0): 1.000 AP: 1.000 (opt. threshold: 0.944)                             \n"
      ]
     },
     "metadata": {},
     "output_type": "display_data"
    },
    {
     "data": {
      "text/html": [
       "<pre style=\"white-space:pre;overflow-x:auto;line-height:normal;font-family:Menlo,'DejaVu Sans Mono',consolas,'Courier New',monospace\"><span style=\"color: #7fbfbf; text-decoration-color: #7fbfbf\">           </span><span style=\"color: #000080; text-decoration-color: #000080\">INFO    </span> slide-level AUC (cat # 1): 1.000 AP: 1.000 (opt. threshold: 0.990)                             \n",
       "</pre>\n"
      ],
      "text/plain": [
       "\u001b[2;36m          \u001b[0m\u001b[2;36m \u001b[0m\u001b[34mINFO    \u001b[0m slide-level AUC (cat # 1): 1.000 AP: 1.000 (opt. threshold: 0.990)                             \n"
      ]
     },
     "metadata": {},
     "output_type": "display_data"
    },
    {
     "data": {
      "text/html": [
       "<pre style=\"white-space:pre;overflow-x:auto;line-height:normal;font-family:Menlo,'DejaVu Sans Mono',consolas,'Courier New',monospace\"><span style=\"color: #7fbfbf; text-decoration-color: #7fbfbf\">           </span><span style=\"color: #000080; text-decoration-color: #000080\">INFO    </span> Category 0 acc: 100.0% (3/3)                                                                   \n",
       "</pre>\n"
      ],
      "text/plain": [
       "\u001b[2;36m          \u001b[0m\u001b[2;36m \u001b[0m\u001b[34mINFO    \u001b[0m Category 0 acc: 100.0% (3/3)                                                                   \n"
      ]
     },
     "metadata": {},
     "output_type": "display_data"
    },
    {
     "data": {
      "text/html": [
       "<pre style=\"white-space:pre;overflow-x:auto;line-height:normal;font-family:Menlo,'DejaVu Sans Mono',consolas,'Courier New',monospace\"><span style=\"color: #7fbfbf; text-decoration-color: #7fbfbf\">           </span><span style=\"color: #000080; text-decoration-color: #000080\">INFO    </span> Category 1 acc: 100.0% (4/4)                                                                   \n",
       "</pre>\n"
      ],
      "text/plain": [
       "\u001b[2;36m          \u001b[0m\u001b[2;36m \u001b[0m\u001b[34mINFO    \u001b[0m Category 1 acc: 100.0% (4/4)                                                                   \n"
      ]
     },
     "metadata": {},
     "output_type": "display_data"
    },
    {
     "data": {
      "text/html": [
       "<pre style=\"white-space:pre;overflow-x:auto;line-height:normal;font-family:Menlo,'DejaVu Sans Mono',consolas,'Courier New',monospace\"><span style=\"color: #7fbfbf; text-decoration-color: #7fbfbf\">           </span><span style=\"color: #000080; text-decoration-color: #000080\">INFO    </span> Attention scores exported to                                                                   \n",
       "<span style=\"color: #7fbfbf; text-decoration-color: #7fbfbf\">           </span>         <span style=\"color: #008000; text-decoration-color: #008000\">slideflow_Lyon_TCGA/mil/00002-clam_sb-category/attention/TCGA-25-1329-01Z-00-DX1.6DD994F3-E426-</span>\n",
       "<span style=\"color: #7fbfbf; text-decoration-color: #7fbfbf\">           </span>         <span style=\"color: #008000; text-decoration-color: #008000\">4749-8ECA-9A0B87FF04DC_att.npz</span>                                                                 \n",
       "</pre>\n"
      ],
      "text/plain": [
       "\u001b[2;36m          \u001b[0m\u001b[2;36m \u001b[0m\u001b[34mINFO    \u001b[0m Attention scores exported to                                                                   \n",
       "\u001b[2;36m           \u001b[0m         \u001b[32mslideflow_Lyon_TCGA/mil/00002-clam_sb-category/attention/TCGA-25-1329-01Z-00-DX1.6DD994F3-E426-\u001b[0m\n",
       "\u001b[2;36m           \u001b[0m         \u001b[32m4749-8ECA-9A0B87FF04DC_att.npz\u001b[0m                                                                 \n"
      ]
     },
     "metadata": {},
     "output_type": "display_data"
    },
    {
     "data": {
      "text/html": [
       "<pre style=\"white-space:pre;overflow-x:auto;line-height:normal;font-family:Menlo,'DejaVu Sans Mono',consolas,'Courier New',monospace\"><span style=\"color: #7fbfbf; text-decoration-color: #7fbfbf\">           </span><span style=\"color: #000080; text-decoration-color: #000080\">INFO    </span> Training FastAI MIL model with config:                                                         \n",
       "</pre>\n"
      ],
      "text/plain": [
       "\u001b[2;36m          \u001b[0m\u001b[2;36m \u001b[0m\u001b[34mINFO    \u001b[0m Training FastAI MIL model with config:                                                         \n"
      ]
     },
     "metadata": {},
     "output_type": "display_data"
    },
    {
     "data": {
      "text/html": [
       "<pre style=\"white-space:pre;overflow-x:auto;line-height:normal;font-family:Menlo,'DejaVu Sans Mono',consolas,'Courier New',monospace\"><span style=\"color: #7fbfbf; text-decoration-color: #7fbfbf\">           </span><span style=\"color: #000080; text-decoration-color: #000080\">INFO    </span> TrainerConfigFastAI(                                                                           \n",
       "<span style=\"color: #7fbfbf; text-decoration-color: #7fbfbf\">           </span>           aggregation_level='slide'                                                                    \n",
       "<span style=\"color: #7fbfbf; text-decoration-color: #7fbfbf\">           </span>           lr=0.001                                                                                     \n",
       "<span style=\"color: #7fbfbf; text-decoration-color: #7fbfbf\">           </span>           wd=1e-05                                                                                     \n",
       "<span style=\"color: #7fbfbf; text-decoration-color: #7fbfbf\">           </span>           bag_size=512                                                                                 \n",
       "<span style=\"color: #7fbfbf; text-decoration-color: #7fbfbf\">           </span>           fit_one_cycle=True                                                                           \n",
       "<span style=\"color: #7fbfbf; text-decoration-color: #7fbfbf\">           </span>           epochs=15                                                                                    \n",
       "<span style=\"color: #7fbfbf; text-decoration-color: #7fbfbf\">           </span>           batch_size=64                                                                                \n",
       "<span style=\"color: #7fbfbf; text-decoration-color: #7fbfbf\">           </span>           drop_last=True                                                                               \n",
       "<span style=\"color: #7fbfbf; text-decoration-color: #7fbfbf\">           </span>           save_monitor='valid_loss'                                                                    \n",
       "<span style=\"color: #7fbfbf; text-decoration-color: #7fbfbf\">           </span>           model='clam_sb'                                                                              \n",
       "<span style=\"color: #7fbfbf; text-decoration-color: #7fbfbf\">           </span>           model_size='small'                                                                           \n",
       "<span style=\"color: #7fbfbf; text-decoration-color: #7fbfbf\">           </span>           bag_loss='ce'                                                                                \n",
       "<span style=\"color: #7fbfbf; text-decoration-color: #7fbfbf\">           </span>           bag_weight=0.7                                                                               \n",
       "<span style=\"color: #7fbfbf; text-decoration-color: #7fbfbf\">           </span>           dropout=True                                                                                 \n",
       "<span style=\"color: #7fbfbf; text-decoration-color: #7fbfbf\">           </span>           opt='adam'                                                                                   \n",
       "<span style=\"color: #7fbfbf; text-decoration-color: #7fbfbf\">           </span>           inst_loss='ce'                                                                               \n",
       "<span style=\"color: #7fbfbf; text-decoration-color: #7fbfbf\">           </span>           no_inst_cluster=False                                                                        \n",
       "<span style=\"color: #7fbfbf; text-decoration-color: #7fbfbf\">           </span>           B=8                                                                                          \n",
       "<span style=\"color: #7fbfbf; text-decoration-color: #7fbfbf\">           </span>           model_kwargs=None                                                                            \n",
       "<span style=\"color: #7fbfbf; text-decoration-color: #7fbfbf\">           </span>         )                                                                                              \n",
       "</pre>\n"
      ],
      "text/plain": [
       "\u001b[2;36m          \u001b[0m\u001b[2;36m \u001b[0m\u001b[34mINFO    \u001b[0m TrainerConfigFastAI(                                                                           \n",
       "\u001b[2;36m           \u001b[0m           aggregation_level='slide'                                                                    \n",
       "\u001b[2;36m           \u001b[0m           lr=0.001                                                                                     \n",
       "\u001b[2;36m           \u001b[0m           wd=1e-05                                                                                     \n",
       "\u001b[2;36m           \u001b[0m           bag_size=512                                                                                 \n",
       "\u001b[2;36m           \u001b[0m           fit_one_cycle=True                                                                           \n",
       "\u001b[2;36m           \u001b[0m           epochs=15                                                                                    \n",
       "\u001b[2;36m           \u001b[0m           batch_size=64                                                                                \n",
       "\u001b[2;36m           \u001b[0m           drop_last=True                                                                               \n",
       "\u001b[2;36m           \u001b[0m           save_monitor='valid_loss'                                                                    \n",
       "\u001b[2;36m           \u001b[0m           model='clam_sb'                                                                              \n",
       "\u001b[2;36m           \u001b[0m           model_size='small'                                                                           \n",
       "\u001b[2;36m           \u001b[0m           bag_loss='ce'                                                                                \n",
       "\u001b[2;36m           \u001b[0m           bag_weight=0.7                                                                               \n",
       "\u001b[2;36m           \u001b[0m           dropout=True                                                                                 \n",
       "\u001b[2;36m           \u001b[0m           opt='adam'                                                                                   \n",
       "\u001b[2;36m           \u001b[0m           inst_loss='ce'                                                                               \n",
       "\u001b[2;36m           \u001b[0m           no_inst_cluster=False                                                                        \n",
       "\u001b[2;36m           \u001b[0m           B=8                                                                                          \n",
       "\u001b[2;36m           \u001b[0m           model_kwargs=None                                                                            \n",
       "\u001b[2;36m           \u001b[0m         )                                                                                              \n"
      ]
     },
     "metadata": {},
     "output_type": "display_data"
    },
    {
     "data": {
      "text/html": [
       "<pre style=\"white-space:pre;overflow-x:auto;line-height:normal;font-family:Menlo,'DejaVu Sans Mono',consolas,'Courier New',monospace\"><span style=\"color: #7fbfbf; text-decoration-color: #7fbfbf\">           </span><span style=\"color: #000080; text-decoration-color: #000080\">INFO    </span> Training dataset: 30 merged bags (from 30 possible slides)                                     \n",
       "</pre>\n"
      ],
      "text/plain": [
       "\u001b[2;36m          \u001b[0m\u001b[2;36m \u001b[0m\u001b[34mINFO    \u001b[0m Training dataset: 30 merged bags (from 30 possible slides)                                     \n"
      ]
     },
     "metadata": {},
     "output_type": "display_data"
    },
    {
     "data": {
      "text/html": [
       "<pre style=\"white-space:pre;overflow-x:auto;line-height:normal;font-family:Menlo,'DejaVu Sans Mono',consolas,'Courier New',monospace\"><span style=\"color: #7fbfbf; text-decoration-color: #7fbfbf\">           </span><span style=\"color: #000080; text-decoration-color: #000080\">INFO    </span> Validation dataset: 7 merged bags (from 7 possible slides)                                     \n",
       "</pre>\n"
      ],
      "text/plain": [
       "\u001b[2;36m          \u001b[0m\u001b[2;36m \u001b[0m\u001b[34mINFO    \u001b[0m Validation dataset: 7 merged bags (from 7 possible slides)                                     \n"
      ]
     },
     "metadata": {},
     "output_type": "display_data"
    },
    {
     "data": {
      "text/html": [
       "<pre style=\"white-space:pre;overflow-x:auto;line-height:normal;font-family:Menlo,'DejaVu Sans Mono',consolas,'Courier New',monospace\"><span style=\"color: #7fbfbf; text-decoration-color: #7fbfbf\">           </span><span style=\"color: #000080; text-decoration-color: #000080\">INFO    </span> Training model <span style=\"font-weight: bold\">CLAM_SB</span> (size=[2048, 512, 256], loss=CrossEntropyWithInstanceLoss)              \n",
       "</pre>\n"
      ],
      "text/plain": [
       "\u001b[2;36m          \u001b[0m\u001b[2;36m \u001b[0m\u001b[34mINFO    \u001b[0m Training model \u001b[1mCLAM_SB\u001b[0m (size=[2048, 512, 256], loss=CrossEntropyWithInstanceLoss)              \n"
      ]
     },
     "metadata": {},
     "output_type": "display_data"
    },
    {
     "data": {
      "text/html": [
       "\n",
       "<style>\n",
       "    /* Turns off some styling */\n",
       "    progress {\n",
       "        /* gets rid of default border in Firefox and Opera. */\n",
       "        border: none;\n",
       "        /* Needs to be in here for Safari polyfill so background images work as expected. */\n",
       "        background-size: auto;\n",
       "    }\n",
       "    progress:not([value]), progress:not([value])::-webkit-progress-bar {\n",
       "        background: repeating-linear-gradient(45deg, #7e7e7e, #7e7e7e 10px, #5c5c5c 10px, #5c5c5c 20px);\n",
       "    }\n",
       "    .progress-bar-interrupted, .progress-bar-interrupted::-webkit-progress-bar {\n",
       "        background: #F44336;\n",
       "    }\n",
       "</style>\n"
      ],
      "text/plain": [
       "<IPython.core.display.HTML object>"
      ]
     },
     "metadata": {},
     "output_type": "display_data"
    },
    {
     "data": {
      "text/html": [
       "<table border=\"1\" class=\"dataframe\">\n",
       "  <thead>\n",
       "    <tr style=\"text-align: left;\">\n",
       "      <th>epoch</th>\n",
       "      <th>train_loss</th>\n",
       "      <th>valid_loss</th>\n",
       "      <th>roc_auc_score</th>\n",
       "      <th>time</th>\n",
       "    </tr>\n",
       "  </thead>\n",
       "  <tbody>\n",
       "    <tr>\n",
       "      <td>0</td>\n",
       "      <td>0.704687</td>\n",
       "      <td>0.622868</td>\n",
       "      <td>0.833333</td>\n",
       "      <td>00:05</td>\n",
       "    </tr>\n",
       "    <tr>\n",
       "      <td>1</td>\n",
       "      <td>0.646982</td>\n",
       "      <td>0.492398</td>\n",
       "      <td>1.000000</td>\n",
       "      <td>00:05</td>\n",
       "    </tr>\n",
       "    <tr>\n",
       "      <td>2</td>\n",
       "      <td>0.561348</td>\n",
       "      <td>0.406242</td>\n",
       "      <td>1.000000</td>\n",
       "      <td>00:05</td>\n",
       "    </tr>\n",
       "    <tr>\n",
       "      <td>3</td>\n",
       "      <td>0.426863</td>\n",
       "      <td>0.104536</td>\n",
       "      <td>1.000000</td>\n",
       "      <td>00:05</td>\n",
       "    </tr>\n",
       "    <tr>\n",
       "      <td>4</td>\n",
       "      <td>0.294840</td>\n",
       "      <td>0.074368</td>\n",
       "      <td>1.000000</td>\n",
       "      <td>00:05</td>\n",
       "    </tr>\n",
       "    <tr>\n",
       "      <td>5</td>\n",
       "      <td>0.196887</td>\n",
       "      <td>0.153800</td>\n",
       "      <td>1.000000</td>\n",
       "      <td>00:05</td>\n",
       "    </tr>\n",
       "    <tr>\n",
       "      <td>6</td>\n",
       "      <td>0.214790</td>\n",
       "      <td>0.096775</td>\n",
       "      <td>1.000000</td>\n",
       "      <td>00:05</td>\n",
       "    </tr>\n",
       "    <tr>\n",
       "      <td>7</td>\n",
       "      <td>0.133148</td>\n",
       "      <td>0.016251</td>\n",
       "      <td>1.000000</td>\n",
       "      <td>00:05</td>\n",
       "    </tr>\n",
       "    <tr>\n",
       "      <td>8</td>\n",
       "      <td>0.082794</td>\n",
       "      <td>0.452597</td>\n",
       "      <td>1.000000</td>\n",
       "      <td>00:05</td>\n",
       "    </tr>\n",
       "    <tr>\n",
       "      <td>9</td>\n",
       "      <td>0.049859</td>\n",
       "      <td>0.244212</td>\n",
       "      <td>1.000000</td>\n",
       "      <td>00:05</td>\n",
       "    </tr>\n",
       "    <tr>\n",
       "      <td>10</td>\n",
       "      <td>0.029247</td>\n",
       "      <td>0.210430</td>\n",
       "      <td>1.000000</td>\n",
       "      <td>00:05</td>\n",
       "    </tr>\n",
       "    <tr>\n",
       "      <td>11</td>\n",
       "      <td>0.018841</td>\n",
       "      <td>0.279232</td>\n",
       "      <td>1.000000</td>\n",
       "      <td>00:05</td>\n",
       "    </tr>\n",
       "    <tr>\n",
       "      <td>12</td>\n",
       "      <td>0.013612</td>\n",
       "      <td>0.158023</td>\n",
       "      <td>1.000000</td>\n",
       "      <td>00:05</td>\n",
       "    </tr>\n",
       "    <tr>\n",
       "      <td>13</td>\n",
       "      <td>0.009394</td>\n",
       "      <td>0.138258</td>\n",
       "      <td>1.000000</td>\n",
       "      <td>00:05</td>\n",
       "    </tr>\n",
       "    <tr>\n",
       "      <td>14</td>\n",
       "      <td>0.007472</td>\n",
       "      <td>0.137837</td>\n",
       "      <td>1.000000</td>\n",
       "      <td>00:05</td>\n",
       "    </tr>\n",
       "  </tbody>\n",
       "</table>"
      ],
      "text/plain": [
       "<IPython.core.display.HTML object>"
      ]
     },
     "metadata": {},
     "output_type": "display_data"
    },
    {
     "name": "stdout",
     "output_type": "stream",
     "text": [
      "Better model found at epoch 0 with valid_loss value: 0.6228683590888977.\n",
      "Better model found at epoch 1 with valid_loss value: 0.492398202419281.\n",
      "Better model found at epoch 2 with valid_loss value: 0.40624234080314636.\n",
      "Better model found at epoch 3 with valid_loss value: 0.10453628748655319.\n",
      "Better model found at epoch 4 with valid_loss value: 0.0743684247136116.\n",
      "Better model found at epoch 7 with valid_loss value: 0.01625104434788227.\n"
     ]
    },
    {
     "data": {
      "text/html": [
       "<pre style=\"white-space:pre;overflow-x:auto;line-height:normal;font-family:Menlo,'DejaVu Sans Mono',consolas,'Courier New',monospace\"><span style=\"color: #7fbfbf; text-decoration-color: #7fbfbf\">[17:45:43] </span><span style=\"color: #000080; text-decoration-color: #000080\">INFO    </span> Predictions saved to <span style=\"color: #008000; text-decoration-color: #008000\">slideflow_Lyon_TCGA/mil/00003-clam_sb-category/predictions.parquet</span>        \n",
       "</pre>\n"
      ],
      "text/plain": [
       "\u001b[2;36m[17:45:43]\u001b[0m\u001b[2;36m \u001b[0m\u001b[34mINFO    \u001b[0m Predictions saved to \u001b[32mslideflow_Lyon_TCGA/mil/00003-clam_sb-category/predictions.parquet\u001b[0m        \n"
      ]
     },
     "metadata": {},
     "output_type": "display_data"
    },
    {
     "data": {
      "text/html": [
       "<pre style=\"white-space:pre;overflow-x:auto;line-height:normal;font-family:Menlo,'DejaVu Sans Mono',consolas,'Courier New',monospace\"><span style=\"color: #7fbfbf; text-decoration-color: #7fbfbf\">           </span><span style=\"color: #000080; text-decoration-color: #000080\">INFO    </span> Validation metrics for outcome <span style=\"color: #008000; text-decoration-color: #008000\">category</span>:                                                       \n",
       "</pre>\n"
      ],
      "text/plain": [
       "\u001b[2;36m          \u001b[0m\u001b[2;36m \u001b[0m\u001b[34mINFO    \u001b[0m Validation metrics for outcome \u001b[32mcategory\u001b[0m:                                                       \n"
      ]
     },
     "metadata": {},
     "output_type": "display_data"
    },
    {
     "data": {
      "text/html": [
       "<pre style=\"white-space:pre;overflow-x:auto;line-height:normal;font-family:Menlo,'DejaVu Sans Mono',consolas,'Courier New',monospace\"><span style=\"color: #7fbfbf; text-decoration-color: #7fbfbf\">           </span><span style=\"color: #000080; text-decoration-color: #000080\">INFO    </span> slide-level AUC (cat # 0): 1.000 AP: 1.000 (opt. threshold: 0.937)                             \n",
       "</pre>\n"
      ],
      "text/plain": [
       "\u001b[2;36m          \u001b[0m\u001b[2;36m \u001b[0m\u001b[34mINFO    \u001b[0m slide-level AUC (cat # 0): 1.000 AP: 1.000 (opt. threshold: 0.937)                             \n"
      ]
     },
     "metadata": {},
     "output_type": "display_data"
    },
    {
     "data": {
      "text/html": [
       "<pre style=\"white-space:pre;overflow-x:auto;line-height:normal;font-family:Menlo,'DejaVu Sans Mono',consolas,'Courier New',monospace\"><span style=\"color: #7fbfbf; text-decoration-color: #7fbfbf\">           </span><span style=\"color: #000080; text-decoration-color: #000080\">INFO    </span> slide-level AUC (cat # 1): 1.000 AP: 1.000 (opt. threshold: 0.944)                             \n",
       "</pre>\n"
      ],
      "text/plain": [
       "\u001b[2;36m          \u001b[0m\u001b[2;36m \u001b[0m\u001b[34mINFO    \u001b[0m slide-level AUC (cat # 1): 1.000 AP: 1.000 (opt. threshold: 0.944)                             \n"
      ]
     },
     "metadata": {},
     "output_type": "display_data"
    },
    {
     "data": {
      "text/html": [
       "<pre style=\"white-space:pre;overflow-x:auto;line-height:normal;font-family:Menlo,'DejaVu Sans Mono',consolas,'Courier New',monospace\"><span style=\"color: #7fbfbf; text-decoration-color: #7fbfbf\">           </span><span style=\"color: #000080; text-decoration-color: #000080\">INFO    </span> Category 0 acc: 100.0% (4/4)                                                                   \n",
       "</pre>\n"
      ],
      "text/plain": [
       "\u001b[2;36m          \u001b[0m\u001b[2;36m \u001b[0m\u001b[34mINFO    \u001b[0m Category 0 acc: 100.0% (4/4)                                                                   \n"
      ]
     },
     "metadata": {},
     "output_type": "display_data"
    },
    {
     "data": {
      "text/html": [
       "<pre style=\"white-space:pre;overflow-x:auto;line-height:normal;font-family:Menlo,'DejaVu Sans Mono',consolas,'Courier New',monospace\"><span style=\"color: #7fbfbf; text-decoration-color: #7fbfbf\">           </span><span style=\"color: #000080; text-decoration-color: #000080\">INFO    </span> Category 1 acc: 100.0% (3/3)                                                                   \n",
       "</pre>\n"
      ],
      "text/plain": [
       "\u001b[2;36m          \u001b[0m\u001b[2;36m \u001b[0m\u001b[34mINFO    \u001b[0m Category 1 acc: 100.0% (3/3)                                                                   \n"
      ]
     },
     "metadata": {},
     "output_type": "display_data"
    },
    {
     "data": {
      "text/html": [
       "<pre style=\"white-space:pre;overflow-x:auto;line-height:normal;font-family:Menlo,'DejaVu Sans Mono',consolas,'Courier New',monospace\"><span style=\"color: #7fbfbf; text-decoration-color: #7fbfbf\">           </span><span style=\"color: #000080; text-decoration-color: #000080\">INFO    </span> Attention scores exported to                                                                   \n",
       "<span style=\"color: #7fbfbf; text-decoration-color: #7fbfbf\">           </span>         <span style=\"color: #008000; text-decoration-color: #008000\">slideflow_Lyon_TCGA/mil/00003-clam_sb-category/attention/TCGA-OY-A56Q-01Z-00-DX1.F1556F26-8845-</span>\n",
       "<span style=\"color: #7fbfbf; text-decoration-color: #7fbfbf\">           </span>         <span style=\"color: #008000; text-decoration-color: #008000\">4962-9004-70F9747B46B7_att.npz</span>                                                                 \n",
       "</pre>\n"
      ],
      "text/plain": [
       "\u001b[2;36m          \u001b[0m\u001b[2;36m \u001b[0m\u001b[34mINFO    \u001b[0m Attention scores exported to                                                                   \n",
       "\u001b[2;36m           \u001b[0m         \u001b[32mslideflow_Lyon_TCGA/mil/00003-clam_sb-category/attention/TCGA-OY-A56Q-01Z-00-DX1.F1556F26-8845-\u001b[0m\n",
       "\u001b[2;36m           \u001b[0m         \u001b[32m4962-9004-70F9747B46B7_att.npz\u001b[0m                                                                 \n"
      ]
     },
     "metadata": {},
     "output_type": "display_data"
    },
    {
     "data": {
      "text/html": [
       "<pre style=\"white-space:pre;overflow-x:auto;line-height:normal;font-family:Menlo,'DejaVu Sans Mono',consolas,'Courier New',monospace\"><span style=\"color: #7fbfbf; text-decoration-color: #7fbfbf\">           </span><span style=\"color: #000080; text-decoration-color: #000080\">INFO    </span> Training FastAI MIL model with config:                                                         \n",
       "</pre>\n"
      ],
      "text/plain": [
       "\u001b[2;36m          \u001b[0m\u001b[2;36m \u001b[0m\u001b[34mINFO    \u001b[0m Training FastAI MIL model with config:                                                         \n"
      ]
     },
     "metadata": {},
     "output_type": "display_data"
    },
    {
     "data": {
      "text/html": [
       "<pre style=\"white-space:pre;overflow-x:auto;line-height:normal;font-family:Menlo,'DejaVu Sans Mono',consolas,'Courier New',monospace\"><span style=\"color: #7fbfbf; text-decoration-color: #7fbfbf\">           </span><span style=\"color: #000080; text-decoration-color: #000080\">INFO    </span> TrainerConfigFastAI(                                                                           \n",
       "<span style=\"color: #7fbfbf; text-decoration-color: #7fbfbf\">           </span>           aggregation_level='slide'                                                                    \n",
       "<span style=\"color: #7fbfbf; text-decoration-color: #7fbfbf\">           </span>           lr=0.001                                                                                     \n",
       "<span style=\"color: #7fbfbf; text-decoration-color: #7fbfbf\">           </span>           wd=1e-05                                                                                     \n",
       "<span style=\"color: #7fbfbf; text-decoration-color: #7fbfbf\">           </span>           bag_size=512                                                                                 \n",
       "<span style=\"color: #7fbfbf; text-decoration-color: #7fbfbf\">           </span>           fit_one_cycle=True                                                                           \n",
       "<span style=\"color: #7fbfbf; text-decoration-color: #7fbfbf\">           </span>           epochs=15                                                                                    \n",
       "<span style=\"color: #7fbfbf; text-decoration-color: #7fbfbf\">           </span>           batch_size=64                                                                                \n",
       "<span style=\"color: #7fbfbf; text-decoration-color: #7fbfbf\">           </span>           drop_last=True                                                                               \n",
       "<span style=\"color: #7fbfbf; text-decoration-color: #7fbfbf\">           </span>           save_monitor='valid_loss'                                                                    \n",
       "<span style=\"color: #7fbfbf; text-decoration-color: #7fbfbf\">           </span>           model='clam_sb'                                                                              \n",
       "<span style=\"color: #7fbfbf; text-decoration-color: #7fbfbf\">           </span>           model_size='small'                                                                           \n",
       "<span style=\"color: #7fbfbf; text-decoration-color: #7fbfbf\">           </span>           bag_loss='ce'                                                                                \n",
       "<span style=\"color: #7fbfbf; text-decoration-color: #7fbfbf\">           </span>           bag_weight=0.7                                                                               \n",
       "<span style=\"color: #7fbfbf; text-decoration-color: #7fbfbf\">           </span>           dropout=True                                                                                 \n",
       "<span style=\"color: #7fbfbf; text-decoration-color: #7fbfbf\">           </span>           opt='adam'                                                                                   \n",
       "<span style=\"color: #7fbfbf; text-decoration-color: #7fbfbf\">           </span>           inst_loss='ce'                                                                               \n",
       "<span style=\"color: #7fbfbf; text-decoration-color: #7fbfbf\">           </span>           no_inst_cluster=False                                                                        \n",
       "<span style=\"color: #7fbfbf; text-decoration-color: #7fbfbf\">           </span>           B=8                                                                                          \n",
       "<span style=\"color: #7fbfbf; text-decoration-color: #7fbfbf\">           </span>           model_kwargs=None                                                                            \n",
       "<span style=\"color: #7fbfbf; text-decoration-color: #7fbfbf\">           </span>         )                                                                                              \n",
       "</pre>\n"
      ],
      "text/plain": [
       "\u001b[2;36m          \u001b[0m\u001b[2;36m \u001b[0m\u001b[34mINFO    \u001b[0m TrainerConfigFastAI(                                                                           \n",
       "\u001b[2;36m           \u001b[0m           aggregation_level='slide'                                                                    \n",
       "\u001b[2;36m           \u001b[0m           lr=0.001                                                                                     \n",
       "\u001b[2;36m           \u001b[0m           wd=1e-05                                                                                     \n",
       "\u001b[2;36m           \u001b[0m           bag_size=512                                                                                 \n",
       "\u001b[2;36m           \u001b[0m           fit_one_cycle=True                                                                           \n",
       "\u001b[2;36m           \u001b[0m           epochs=15                                                                                    \n",
       "\u001b[2;36m           \u001b[0m           batch_size=64                                                                                \n",
       "\u001b[2;36m           \u001b[0m           drop_last=True                                                                               \n",
       "\u001b[2;36m           \u001b[0m           save_monitor='valid_loss'                                                                    \n",
       "\u001b[2;36m           \u001b[0m           model='clam_sb'                                                                              \n",
       "\u001b[2;36m           \u001b[0m           model_size='small'                                                                           \n",
       "\u001b[2;36m           \u001b[0m           bag_loss='ce'                                                                                \n",
       "\u001b[2;36m           \u001b[0m           bag_weight=0.7                                                                               \n",
       "\u001b[2;36m           \u001b[0m           dropout=True                                                                                 \n",
       "\u001b[2;36m           \u001b[0m           opt='adam'                                                                                   \n",
       "\u001b[2;36m           \u001b[0m           inst_loss='ce'                                                                               \n",
       "\u001b[2;36m           \u001b[0m           no_inst_cluster=False                                                                        \n",
       "\u001b[2;36m           \u001b[0m           B=8                                                                                          \n",
       "\u001b[2;36m           \u001b[0m           model_kwargs=None                                                                            \n",
       "\u001b[2;36m           \u001b[0m         )                                                                                              \n"
      ]
     },
     "metadata": {},
     "output_type": "display_data"
    },
    {
     "data": {
      "text/html": [
       "<pre style=\"white-space:pre;overflow-x:auto;line-height:normal;font-family:Menlo,'DejaVu Sans Mono',consolas,'Courier New',monospace\"><span style=\"color: #7fbfbf; text-decoration-color: #7fbfbf\">           </span><span style=\"color: #000080; text-decoration-color: #000080\">INFO    </span> Training dataset: 30 merged bags (from 30 possible slides)                                     \n",
       "</pre>\n"
      ],
      "text/plain": [
       "\u001b[2;36m          \u001b[0m\u001b[2;36m \u001b[0m\u001b[34mINFO    \u001b[0m Training dataset: 30 merged bags (from 30 possible slides)                                     \n"
      ]
     },
     "metadata": {},
     "output_type": "display_data"
    },
    {
     "data": {
      "text/html": [
       "<pre style=\"white-space:pre;overflow-x:auto;line-height:normal;font-family:Menlo,'DejaVu Sans Mono',consolas,'Courier New',monospace\"><span style=\"color: #7fbfbf; text-decoration-color: #7fbfbf\">           </span><span style=\"color: #000080; text-decoration-color: #000080\">INFO    </span> Validation dataset: 7 merged bags (from 7 possible slides)                                     \n",
       "</pre>\n"
      ],
      "text/plain": [
       "\u001b[2;36m          \u001b[0m\u001b[2;36m \u001b[0m\u001b[34mINFO    \u001b[0m Validation dataset: 7 merged bags (from 7 possible slides)                                     \n"
      ]
     },
     "metadata": {},
     "output_type": "display_data"
    },
    {
     "data": {
      "text/html": [
       "<pre style=\"white-space:pre;overflow-x:auto;line-height:normal;font-family:Menlo,'DejaVu Sans Mono',consolas,'Courier New',monospace\"><span style=\"color: #7fbfbf; text-decoration-color: #7fbfbf\">           </span><span style=\"color: #000080; text-decoration-color: #000080\">INFO    </span> Training model <span style=\"font-weight: bold\">CLAM_SB</span> (size=[2048, 512, 256], loss=CrossEntropyWithInstanceLoss)              \n",
       "</pre>\n"
      ],
      "text/plain": [
       "\u001b[2;36m          \u001b[0m\u001b[2;36m \u001b[0m\u001b[34mINFO    \u001b[0m Training model \u001b[1mCLAM_SB\u001b[0m (size=[2048, 512, 256], loss=CrossEntropyWithInstanceLoss)              \n"
      ]
     },
     "metadata": {},
     "output_type": "display_data"
    },
    {
     "data": {
      "text/html": [
       "\n",
       "<style>\n",
       "    /* Turns off some styling */\n",
       "    progress {\n",
       "        /* gets rid of default border in Firefox and Opera. */\n",
       "        border: none;\n",
       "        /* Needs to be in here for Safari polyfill so background images work as expected. */\n",
       "        background-size: auto;\n",
       "    }\n",
       "    progress:not([value]), progress:not([value])::-webkit-progress-bar {\n",
       "        background: repeating-linear-gradient(45deg, #7e7e7e, #7e7e7e 10px, #5c5c5c 10px, #5c5c5c 20px);\n",
       "    }\n",
       "    .progress-bar-interrupted, .progress-bar-interrupted::-webkit-progress-bar {\n",
       "        background: #F44336;\n",
       "    }\n",
       "</style>\n"
      ],
      "text/plain": [
       "<IPython.core.display.HTML object>"
      ]
     },
     "metadata": {},
     "output_type": "display_data"
    },
    {
     "data": {
      "text/html": [
       "<table border=\"1\" class=\"dataframe\">\n",
       "  <thead>\n",
       "    <tr style=\"text-align: left;\">\n",
       "      <th>epoch</th>\n",
       "      <th>train_loss</th>\n",
       "      <th>valid_loss</th>\n",
       "      <th>roc_auc_score</th>\n",
       "      <th>time</th>\n",
       "    </tr>\n",
       "  </thead>\n",
       "  <tbody>\n",
       "    <tr>\n",
       "      <td>0</td>\n",
       "      <td>0.717715</td>\n",
       "      <td>0.637425</td>\n",
       "      <td>0.750000</td>\n",
       "      <td>00:05</td>\n",
       "    </tr>\n",
       "    <tr>\n",
       "      <td>1</td>\n",
       "      <td>0.615533</td>\n",
       "      <td>0.430523</td>\n",
       "      <td>0.833333</td>\n",
       "      <td>00:05</td>\n",
       "    </tr>\n",
       "    <tr>\n",
       "      <td>2</td>\n",
       "      <td>0.582476</td>\n",
       "      <td>0.447879</td>\n",
       "      <td>0.916667</td>\n",
       "      <td>00:05</td>\n",
       "    </tr>\n",
       "    <tr>\n",
       "      <td>3</td>\n",
       "      <td>0.486775</td>\n",
       "      <td>0.171299</td>\n",
       "      <td>1.000000</td>\n",
       "      <td>00:05</td>\n",
       "    </tr>\n",
       "    <tr>\n",
       "      <td>4</td>\n",
       "      <td>0.355740</td>\n",
       "      <td>0.457655</td>\n",
       "      <td>1.000000</td>\n",
       "      <td>00:05</td>\n",
       "    </tr>\n",
       "    <tr>\n",
       "      <td>5</td>\n",
       "      <td>0.224068</td>\n",
       "      <td>0.420964</td>\n",
       "      <td>0.916667</td>\n",
       "      <td>00:05</td>\n",
       "    </tr>\n",
       "    <tr>\n",
       "      <td>6</td>\n",
       "      <td>0.135257</td>\n",
       "      <td>0.169701</td>\n",
       "      <td>1.000000</td>\n",
       "      <td>00:05</td>\n",
       "    </tr>\n",
       "    <tr>\n",
       "      <td>7</td>\n",
       "      <td>0.117320</td>\n",
       "      <td>0.234643</td>\n",
       "      <td>0.916667</td>\n",
       "      <td>00:05</td>\n",
       "    </tr>\n",
       "    <tr>\n",
       "      <td>8</td>\n",
       "      <td>0.135695</td>\n",
       "      <td>0.297663</td>\n",
       "      <td>1.000000</td>\n",
       "      <td>00:05</td>\n",
       "    </tr>\n",
       "    <tr>\n",
       "      <td>9</td>\n",
       "      <td>0.096439</td>\n",
       "      <td>0.397788</td>\n",
       "      <td>1.000000</td>\n",
       "      <td>00:05</td>\n",
       "    </tr>\n",
       "    <tr>\n",
       "      <td>10</td>\n",
       "      <td>0.059916</td>\n",
       "      <td>0.272084</td>\n",
       "      <td>0.916667</td>\n",
       "      <td>00:05</td>\n",
       "    </tr>\n",
       "    <tr>\n",
       "      <td>11</td>\n",
       "      <td>0.037463</td>\n",
       "      <td>0.333628</td>\n",
       "      <td>0.916667</td>\n",
       "      <td>00:05</td>\n",
       "    </tr>\n",
       "    <tr>\n",
       "      <td>12</td>\n",
       "      <td>0.024477</td>\n",
       "      <td>0.306387</td>\n",
       "      <td>0.916667</td>\n",
       "      <td>00:05</td>\n",
       "    </tr>\n",
       "    <tr>\n",
       "      <td>13</td>\n",
       "      <td>0.016487</td>\n",
       "      <td>0.307025</td>\n",
       "      <td>0.916667</td>\n",
       "      <td>00:05</td>\n",
       "    </tr>\n",
       "    <tr>\n",
       "      <td>14</td>\n",
       "      <td>0.012378</td>\n",
       "      <td>0.306474</td>\n",
       "      <td>0.916667</td>\n",
       "      <td>00:05</td>\n",
       "    </tr>\n",
       "  </tbody>\n",
       "</table>"
      ],
      "text/plain": [
       "<IPython.core.display.HTML object>"
      ]
     },
     "metadata": {},
     "output_type": "display_data"
    },
    {
     "name": "stdout",
     "output_type": "stream",
     "text": [
      "Better model found at epoch 0 with valid_loss value: 0.6374253034591675.\n",
      "Better model found at epoch 1 with valid_loss value: 0.43052300810813904.\n",
      "Better model found at epoch 3 with valid_loss value: 0.1712992936372757.\n",
      "Better model found at epoch 6 with valid_loss value: 0.1697012037038803.\n"
     ]
    },
    {
     "data": {
      "text/html": [
       "<pre style=\"white-space:pre;overflow-x:auto;line-height:normal;font-family:Menlo,'DejaVu Sans Mono',consolas,'Courier New',monospace\"><span style=\"color: #7fbfbf; text-decoration-color: #7fbfbf\">[17:47:04] </span><span style=\"color: #000080; text-decoration-color: #000080\">INFO    </span> Predictions saved to <span style=\"color: #008000; text-decoration-color: #008000\">slideflow_Lyon_TCGA/mil/00004-clam_sb-category/predictions.parquet</span>        \n",
       "</pre>\n"
      ],
      "text/plain": [
       "\u001b[2;36m[17:47:04]\u001b[0m\u001b[2;36m \u001b[0m\u001b[34mINFO    \u001b[0m Predictions saved to \u001b[32mslideflow_Lyon_TCGA/mil/00004-clam_sb-category/predictions.parquet\u001b[0m        \n"
      ]
     },
     "metadata": {},
     "output_type": "display_data"
    },
    {
     "data": {
      "text/html": [
       "<pre style=\"white-space:pre;overflow-x:auto;line-height:normal;font-family:Menlo,'DejaVu Sans Mono',consolas,'Courier New',monospace\"><span style=\"color: #7fbfbf; text-decoration-color: #7fbfbf\">           </span><span style=\"color: #000080; text-decoration-color: #000080\">INFO    </span> Validation metrics for outcome <span style=\"color: #008000; text-decoration-color: #008000\">category</span>:                                                       \n",
       "</pre>\n"
      ],
      "text/plain": [
       "\u001b[2;36m          \u001b[0m\u001b[2;36m \u001b[0m\u001b[34mINFO    \u001b[0m Validation metrics for outcome \u001b[32mcategory\u001b[0m:                                                       \n"
      ]
     },
     "metadata": {},
     "output_type": "display_data"
    },
    {
     "data": {
      "text/html": [
       "<pre style=\"white-space:pre;overflow-x:auto;line-height:normal;font-family:Menlo,'DejaVu Sans Mono',consolas,'Courier New',monospace\"><span style=\"color: #7fbfbf; text-decoration-color: #7fbfbf\">           </span><span style=\"color: #000080; text-decoration-color: #000080\">INFO    </span> slide-level AUC (cat # 0): 1.000 AP: 1.000 (opt. threshold: 0.675)                             \n",
       "</pre>\n"
      ],
      "text/plain": [
       "\u001b[2;36m          \u001b[0m\u001b[2;36m \u001b[0m\u001b[34mINFO    \u001b[0m slide-level AUC (cat # 0): 1.000 AP: 1.000 (opt. threshold: 0.675)                             \n"
      ]
     },
     "metadata": {},
     "output_type": "display_data"
    },
    {
     "data": {
      "text/html": [
       "<pre style=\"white-space:pre;overflow-x:auto;line-height:normal;font-family:Menlo,'DejaVu Sans Mono',consolas,'Courier New',monospace\"><span style=\"color: #7fbfbf; text-decoration-color: #7fbfbf\">           </span><span style=\"color: #000080; text-decoration-color: #000080\">INFO    </span> slide-level AUC (cat # 1): 1.000 AP: 1.000 (opt. threshold: 0.354)                             \n",
       "</pre>\n"
      ],
      "text/plain": [
       "\u001b[2;36m          \u001b[0m\u001b[2;36m \u001b[0m\u001b[34mINFO    \u001b[0m slide-level AUC (cat # 1): 1.000 AP: 1.000 (opt. threshold: 0.354)                             \n"
      ]
     },
     "metadata": {},
     "output_type": "display_data"
    },
    {
     "data": {
      "text/html": [
       "<pre style=\"white-space:pre;overflow-x:auto;line-height:normal;font-family:Menlo,'DejaVu Sans Mono',consolas,'Courier New',monospace\"><span style=\"color: #7fbfbf; text-decoration-color: #7fbfbf\">           </span><span style=\"color: #000080; text-decoration-color: #000080\">INFO    </span> Category 0 acc: 100.0% (3/3)                                                                   \n",
       "</pre>\n"
      ],
      "text/plain": [
       "\u001b[2;36m          \u001b[0m\u001b[2;36m \u001b[0m\u001b[34mINFO    \u001b[0m Category 0 acc: 100.0% (3/3)                                                                   \n"
      ]
     },
     "metadata": {},
     "output_type": "display_data"
    },
    {
     "data": {
      "text/html": [
       "<pre style=\"white-space:pre;overflow-x:auto;line-height:normal;font-family:Menlo,'DejaVu Sans Mono',consolas,'Courier New',monospace\"><span style=\"color: #7fbfbf; text-decoration-color: #7fbfbf\">           </span><span style=\"color: #000080; text-decoration-color: #000080\">INFO    </span> Category 1 acc: 75.0% (3/4)                                                                    \n",
       "</pre>\n"
      ],
      "text/plain": [
       "\u001b[2;36m          \u001b[0m\u001b[2;36m \u001b[0m\u001b[34mINFO    \u001b[0m Category 1 acc: 75.0% (3/4)                                                                    \n"
      ]
     },
     "metadata": {},
     "output_type": "display_data"
    },
    {
     "data": {
      "text/html": [
       "<pre style=\"white-space:pre;overflow-x:auto;line-height:normal;font-family:Menlo,'DejaVu Sans Mono',consolas,'Courier New',monospace\"><span style=\"color: #7fbfbf; text-decoration-color: #7fbfbf\">           </span><span style=\"color: #000080; text-decoration-color: #000080\">INFO    </span> Attention scores exported to                                                                   \n",
       "<span style=\"color: #7fbfbf; text-decoration-color: #7fbfbf\">           </span>         <span style=\"color: #008000; text-decoration-color: #008000\">slideflow_Lyon_TCGA/mil/00004-clam_sb-category/attention/TCGA-25-1328-01Z-00-DX1.A0145C96-19A9-</span>\n",
       "<span style=\"color: #7fbfbf; text-decoration-color: #7fbfbf\">           </span>         <span style=\"color: #008000; text-decoration-color: #008000\">4F2D-8570-ECF039F99405_att.npz</span>                                                                 \n",
       "</pre>\n"
      ],
      "text/plain": [
       "\u001b[2;36m          \u001b[0m\u001b[2;36m \u001b[0m\u001b[34mINFO    \u001b[0m Attention scores exported to                                                                   \n",
       "\u001b[2;36m           \u001b[0m         \u001b[32mslideflow_Lyon_TCGA/mil/00004-clam_sb-category/attention/TCGA-25-1328-01Z-00-DX1.A0145C96-19A9-\u001b[0m\n",
       "\u001b[2;36m           \u001b[0m         \u001b[32m4F2D-8570-ECF039F99405_att.npz\u001b[0m                                                                 \n"
      ]
     },
     "metadata": {},
     "output_type": "display_data"
    },
    {
     "data": {
      "image/png": "[encoded data removed]",
      "text/plain": [
       "<Figure size 640x480 with 1 Axes>"
      ]
     },
     "metadata": {},
     "output_type": "display_data"
    }
   ],
   "source": [
    "from slideflow.mil import mil_config\n",
    "from slideflow.mil import train_mil\n",
    "\n",
    "for i in range(5):\n",
    "\n",
    "    # Create training and evalutation datasets using label in column 'dataset' from annotations.csv\n",
    "    train_dataset = project.dataset(tile_px=224, tile_um='40x', filters={f'dataset{i}': 'train'})\n",
    "    eval_dataset = project.dataset(tile_px=224, tile_um='40x', filters={f'dataset{i}': 'test'})\n",
    "\n",
    "    config_fastai = mil_config(\n",
    "        model = 'clam_sb',\n",
    "        trainer = 'fastai',\n",
    "        lr=1e-3,\n",
    "        wd = 1e-5,\n",
    "        fit_one_cycle = True,\n",
    "        epochs = 15,\n",
    "        batch_size = 64,\n",
    "        dropout=True,\n",
    "        opt = 'adam',\n",
    "        inst_loss = 'ce'\n",
    "    )\n",
    "\n",
    "    train_mil(\n",
    "        config = config_fastai,          # mil congifuration\n",
    "        outcomes = 'category',             # csv target column\n",
    "        train_dataset = train_dataset,   # train dataset\n",
    "        val_dataset = eval_dataset,      # eval dataset\n",
    "        bags = 'bags',                   # path to bags folder\n",
    "        outdir = f'{project_name}/mil',  # folder to export\n",
    "        attention_heatmaps = False,       # create attention map\n",
    "        cmap = 'magma',                  # matplotlib colormap\n",
    "        interpolation = 'bicubic'        # smoothing heatmaps\n",
    "    )"
   ]
  }
 ],
 "metadata": {
  "kernelspec": {
   "display_name": "Python 3 (ipykernel)",
   "language": "python",
   "name": "python3"
  },
  "language_info": {
   "codemirror_mode": {
    "name": "ipython",
    "version": 3
   },
   "file_extension": ".py",
   "mimetype": "text/x-python",
   "name": "python",
   "nbconvert_exporter": "python",
   "pygments_lexer": "ipython3",
   "version": "3.9.7"
  }
 },
 "nbformat": 4,
 "nbformat_minor": 2
}
