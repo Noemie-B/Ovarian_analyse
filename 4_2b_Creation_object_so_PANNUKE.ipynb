{
 "cells": [
  {
   "cell_type": "raw",
   "id": "cefc20b4",
   "metadata": {},
   "source": [
    "  if model_name == 'pannuke':\n",
    "        colour_dict = {\n",
    "            0: (0, 0, 0), 1: (255, 0, 0), 2: (0, 255, 0), 3: (0, 0, 255), 4: (255, 255, 0), 5: (255, 165, 0)\n",
    "        }"
   ]
  },
  {
   "cell_type": "raw",
   "id": "a4828a43",
   "metadata": {},
   "source": [
    "0: Background\n",
    "1: Neoplastic\n",
    "2: Inflammatory\n",
    "3: Connective\n",
    "4: Dead\n",
    "5: Non-Neoplastic Epithelial"
   ]
  },
  {
   "cell_type": "code",
   "execution_count": 8,
   "id": "425354fd",
   "metadata": {},
   "outputs": [],
   "source": [
    "import tarfile\n",
    "import tempfile\n",
    "from skimage import io\n",
    "import os\n",
    "import pandas as pd\n",
    "import numpy as np\n",
    "import matplotlib.pyplot as plt\n",
    "\n",
    "from spatialOmics import SpatialOmics\n",
    "\n",
    "import urllib.request\n",
    "import tarfile\n",
    "\n",
    "import pandas as pd\n",
    "import pickle\n",
    "import numpy as np\n",
    "from matplotlib.colors import ListedColormap, Normalize\n",
    "\n",
    "# create empty instance\n",
    "so = SpatialOmics()\n",
    "import random\n",
    "\n",
    "import geojson\n",
    "import pandas as pd\n",
    "import numpy as np\n",
    "from PIL import Image, ImageDraw\n",
    "import matplotlib.pyplot as plt\n",
    "import os\n",
    "import cv2\n",
    "from json import JSONDecodeError\n",
    "\n",
    "\n",
    "from function_masks_PANNUKE import *"
   ]
  },
  {
   "cell_type": "code",
   "execution_count": 9,
   "id": "537207a3",
   "metadata": {},
   "outputs": [],
   "source": [
    "PATH_root = '/media/user/Watson/data_Lyon/Ovaires/'"
   ]
  },
  {
   "cell_type": "code",
   "execution_count": 10,
   "id": "764f43a7",
   "metadata": {},
   "outputs": [],
   "source": [
    "PATH_mask = PATH_root+'4_Athena/3_hovernet_select/json/'\n",
    "PATH_img = PATH_root+'4_Athena/1_patches_select/'"
   ]
  },
  {
   "cell_type": "code",
   "execution_count": 11,
   "id": "5b9900e2",
   "metadata": {
    "scrolled": true
   },
   "outputs": [
    {
     "data": {
      "text/plain": [
       "28"
      ]
     },
     "execution_count": 11,
     "metadata": {},
     "output_type": "execute_result"
    }
   ],
   "source": [
    "patients = os.listdir(PATH_img)\n",
    "len(patients)"
   ]
  },
  {
   "cell_type": "markdown",
   "id": "edecaf4e",
   "metadata": {},
   "source": [
    "# so.spl"
   ]
  },
  {
   "cell_type": "code",
   "execution_count": 12,
   "id": "dde01a4e",
   "metadata": {},
   "outputs": [],
   "source": [
    "fmeta = PATH_root+'Ovarian_patients_status.csv'\n",
    "if os.path.exists(fmeta) :\n",
    "    df_fmeta =  pd.read_csv(fmeta, sep=',')\n",
    "    if 'Unnamed: 0' in df_fmeta.columns :\n",
    "        df_fmeta.drop(columns='Unnamed: 0',inplace=True)\n",
    "else:\n",
    "    df_fmeta = pd.DataFrame()\n",
    "    for patient in patients : \n",
    "        if 'CTR' in patient :\n",
    "            status = \"CTR\"\n",
    "        else :\n",
    "            status = \"YO-PCD\"\n",
    "        new_row = pd.DataFrame({'Cohort':['Lyon'], 'ID_patient':[patient], 'status':[status]})\n",
    "        df_fmeta = pd.concat([df, new_row])\n",
    "    df_fmeta.to_csv(fmeta)\n"
   ]
  },
  {
   "cell_type": "code",
   "execution_count": 13,
   "id": "195717b6",
   "metadata": {},
   "outputs": [],
   "source": [
    "df_tot = pd.DataFrame()\n",
    "\n",
    "for patient in patients :\n",
    "    patches = os.listdir(PATH_img+patient)\n",
    "    for patch in patches : \n",
    "        df_temp = pd.DataFrame({'ID_patient' :[patient], 'ID_file' : [patient+'/'+patch[:-4]]})\n",
    "        df_tot = pd.concat([df_tot, df_temp])"
   ]
  },
  {
   "cell_type": "code",
   "execution_count": 14,
   "id": "a83d8985",
   "metadata": {},
   "outputs": [],
   "source": [
    "fmeta = PATH_root+'Ovarian_patients_status.csv'\n",
    "so.spl = pd.merge(df_tot, df_fmeta, on='ID_patient')\n",
    "so.spl.set_index('ID_patient', inplace=True)"
   ]
  },
  {
   "cell_type": "markdown",
   "id": "c178bbae",
   "metadata": {},
   "source": [
    "# so.img & so.mask"
   ]
  },
  {
   "cell_type": "markdown",
   "id": "a124de07",
   "metadata": {},
   "source": [
    "## so.img"
   ]
  },
  {
   "cell_type": "code",
   "execution_count": 15,
   "id": "3ac31807",
   "metadata": {},
   "outputs": [],
   "source": [
    "so.images = dict()\n",
    "for patient in patients :\n",
    "    patches = os.listdir(PATH_img+patient)\n",
    "    for patch in patches : \n",
    "        so.images[patient+'/'+patch[:-4]] = io.imread(PATH_img+patient+'/'+patch)\n",
    "        so.images[patient+'/'+patch[:-4]] = so.images[patient+'/'+patch[:-4]].T\n"
   ]
  },
  {
   "cell_type": "markdown",
   "id": "c0df8ada",
   "metadata": {},
   "source": [
    "## so.masks"
   ]
  },
  {
   "cell_type": "code",
   "execution_count": 16,
   "id": "03e3145d",
   "metadata": {},
   "outputs": [],
   "source": [
    "so.masks = dict()\n",
    "\n",
    "for patient in patients :\n",
    "    patches = os.listdir(PATH_img+patient)\n",
    "    for patch in patches :\n",
    "        PATH_tot = PATH_mask+patient+'/'+patch[:-4]+'.json'\n",
    "        with open(PATH_tot) as f :\n",
    "            nuclei = geojson.load(f)\n",
    "        nuclei = nuclei['nuc']\n",
    "\n",
    "        mask_background = function_mask_background(nuclei)\n",
    "        mask_neoplasic = function_mask_neoplasic(nuclei)\n",
    "        mask_inflammatory = function_mask_inflammatory(nuclei)\n",
    "        mask_connective = function_mask_connective(nuclei)\n",
    "        mask_dead = function_mask_dead(nuclei)   \n",
    "        mask_non_neo_epi = function_mask_nne(nuclei) \n",
    "        cellmasks = function_mask_cellmasks(nuclei)\n",
    "\n",
    "        cellmasks_binary = mask_neoplasic + mask_inflammatory + mask_connective + mask_dead + mask_non_neo_epi\n",
    "        cellmasks_type = function_mask_cellmasks_type(nuclei)\n",
    "\n",
    "\n",
    "        concat = np.stack((mask_background, mask_neoplasic, mask_inflammatory, mask_connective, mask_dead, mask_non_neo_epi, cellmasks, cellmasks_binary, cellmasks_type))\n",
    "\n",
    "        so.masks[patient+'/'+patch[:-4]] = {\"others\":concat[0],\"neoplastic\" :concat[1], \"inflammatory\" : concat[2], \"connective\" : concat[3], \"dead\" : concat[4], \"non-neoplastic_epithelial\" : concat[5],\"cellmasks\" : concat[6],\"cellmasks_binary\" : concat[7],\"cellmasks_type\" : concat[8]}#[:-4]"
   ]
  },
  {
   "cell_type": "markdown",
   "id": "416db07d",
   "metadata": {},
   "source": [
    "# s.uns (unstructured data)"
   ]
  },
  {
   "cell_type": "code",
   "execution_count": 17,
   "id": "12150e74",
   "metadata": {},
   "outputs": [],
   "source": [
    "from matplotlib import cm \n",
    "so.uns = {'cmaps': {}, 'cmap_labels': {}}\n",
    "\n",
    "# define default colormap\n",
    "so.uns['cmaps'].update({'default': cm.Purples})\n",
    "\n",
    "# cell_type_id colormap\n",
    "cmap = ['black', 'red', 'green', 'blue', 'yellow', 'orange']\n",
    "cmap_labels = {0: 'others', 1: 'neoplastic',  2: 'inflammatory', 3: 'connective', 4: 'dead', 5: 'non-neoplastic epithelial'}\n",
    "cmap = ListedColormap(cmap)\n",
    "\n",
    "so.uns['cmaps'].update({'cell_type_id': cmap})\n",
    "so.uns['cmap_labels'].update({'cell_type_id': cmap_labels})"
   ]
  },
  {
   "cell_type": "code",
   "execution_count": 18,
   "id": "2d5b9ba6",
   "metadata": {},
   "outputs": [],
   "source": [
    "#if no background\n",
    "# from matplotlib import cm \n",
    "# so.uns = {'cmaps': {}, 'cmap_labels': {}}\n",
    "\n",
    "# # define default colormap\n",
    "# so.uns['cmaps'].update({'default': cm.Purples})\n",
    "\n",
    "# # cell_type_id colormap\n",
    "# cmap = ['red', 'green', 'blue', 'yellow', 'orange']\n",
    "# cmap_labels = {1: 'neoplastic',  2: 'inflammatory', 3: 'connective', 4: 'dead', 5: 'non-neoplastic epithelial'}\n",
    "# cmap = ListedColormap(cmap)\n",
    "\n",
    "# so.uns['cmaps'].update({'cell_type_id': cmap})\n",
    "# so.uns['cmap_labels'].update({'cell_type_id': cmap_labels})"
   ]
  },
  {
   "cell_type": "markdown",
   "id": "71d303e0",
   "metadata": {},
   "source": [
    "# s.obs"
   ]
  },
  {
   "cell_type": "code",
   "execution_count": 19,
   "id": "20edbac6",
   "metadata": {},
   "outputs": [],
   "source": [
    "so.obs={}\n",
    "for patient in patients :\n",
    "    patches = os.listdir(PATH_img+patient)\n",
    "    for patch in patches :\n",
    "        PATH_tot = PATH_mask+patient+'/'+patch[:-4]+'.json'\n",
    "        with open(PATH_tot) as f :\n",
    "            nuclei = geojson.load(f)\n",
    "        nuclei = nuclei['nuc']\n",
    "        if len(nuclei) != 0 :\n",
    "            so.obs[patient+'/'+patch[:-4]] = centroid(nuclei)\n",
    "            so.obs[patient+'/'+patch[:-4]].index += 1 \n",
    "            so.obs[patient+'/'+patch[:-4]]['cell_type'] = so.obs[patient+'/'+patch[:-4]]['cell_type'].astype('category')"
   ]
  },
  {
   "cell_type": "markdown",
   "id": "239a7419",
   "metadata": {},
   "source": [
    "# Save so object"
   ]
  },
  {
   "cell_type": "code",
   "execution_count": 15,
   "id": "4244b82f",
   "metadata": {},
   "outputs": [],
   "source": [
    "import pickle\n",
    "pickle.dump(so, open('so_50_med.pkl', 'wb'))"
   ]
  },
  {
   "cell_type": "code",
   "execution_count": null,
   "id": "d3d6d0e8",
   "metadata": {},
   "outputs": [],
   "source": []
  }
 ],
 "metadata": {
  "kernelspec": {
   "display_name": "athena_test",
   "language": "python",
   "name": "athena_test"
  },
  "language_info": {
   "codemirror_mode": {
    "name": "ipython",
    "version": 3
   },
   "file_extension": ".py",
   "mimetype": "text/x-python",
   "name": "python",
   "nbconvert_exporter": "python",
   "pygments_lexer": "ipython3",
   "version": "3.8.13"
  }
 },
 "nbformat": 4,
 "nbformat_minor": 5
}
